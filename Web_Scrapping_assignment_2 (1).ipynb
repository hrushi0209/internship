{
 "cells": [
  {
   "cell_type": "code",
   "execution_count": 5,
   "id": "c453bcd0",
   "metadata": {},
   "outputs": [
    {
     "name": "stdout",
     "output_type": "stream",
     "text": [
      "Requirement already satisfied: selenium in c:\\users\\hrushikesh\\anaconda3\\lib\\site-packages (4.1.0)\n",
      "Requirement already satisfied: urllib3[secure]~=1.26 in c:\\users\\hrushikesh\\anaconda3\\lib\\site-packages (from selenium) (1.26.4)\n",
      "Requirement already satisfied: trio-websocket~=0.9 in c:\\users\\hrushikesh\\anaconda3\\lib\\site-packages (from selenium) (0.9.2)\n",
      "Requirement already satisfied: trio~=0.17 in c:\\users\\hrushikesh\\anaconda3\\lib\\site-packages (from selenium) (0.19.0)\n",
      "Requirement already satisfied: cffi>=1.14 in c:\\users\\hrushikesh\\anaconda3\\lib\\site-packages (from trio~=0.17->selenium) (1.14.5)\n",
      "Requirement already satisfied: sortedcontainers in c:\\users\\hrushikesh\\anaconda3\\lib\\site-packages (from trio~=0.17->selenium) (2.3.0)\n",
      "Requirement already satisfied: attrs>=19.2.0 in c:\\users\\hrushikesh\\anaconda3\\lib\\site-packages (from trio~=0.17->selenium) (20.3.0)\n",
      "Requirement already satisfied: idna in c:\\users\\hrushikesh\\anaconda3\\lib\\site-packages (from trio~=0.17->selenium) (2.10)\n",
      "Requirement already satisfied: async-generator>=1.9 in c:\\users\\hrushikesh\\anaconda3\\lib\\site-packages (from trio~=0.17->selenium) (1.10)\n",
      "Requirement already satisfied: sniffio in c:\\users\\hrushikesh\\anaconda3\\lib\\site-packages (from trio~=0.17->selenium) (1.2.0)\n",
      "Requirement already satisfied: outcome in c:\\users\\hrushikesh\\anaconda3\\lib\\site-packages (from trio~=0.17->selenium) (1.1.0)\n",
      "Requirement already satisfied: pycparser in c:\\users\\hrushikesh\\anaconda3\\lib\\site-packages (from cffi>=1.14->trio~=0.17->selenium) (2.20)\n",
      "Requirement already satisfied: wsproto>=0.14 in c:\\users\\hrushikesh\\anaconda3\\lib\\site-packages (from trio-websocket~=0.9->selenium) (1.0.0)\n",
      "Requirement already satisfied: pyOpenSSL>=0.14 in c:\\users\\hrushikesh\\anaconda3\\lib\\site-packages (from urllib3[secure]~=1.26->selenium) (20.0.1)\n",
      "Requirement already satisfied: cryptography>=1.3.4 in c:\\users\\hrushikesh\\anaconda3\\lib\\site-packages (from urllib3[secure]~=1.26->selenium) (3.4.7)\n",
      "Requirement already satisfied: certifi in c:\\users\\hrushikesh\\anaconda3\\lib\\site-packages (from urllib3[secure]~=1.26->selenium) (2020.12.5)\n",
      "Requirement already satisfied: six>=1.5.2 in c:\\users\\hrushikesh\\anaconda3\\lib\\site-packages (from pyOpenSSL>=0.14->urllib3[secure]~=1.26->selenium) (1.15.0)\n",
      "Requirement already satisfied: h11<1,>=0.9.0 in c:\\users\\hrushikesh\\anaconda3\\lib\\site-packages (from wsproto>=0.14->trio-websocket~=0.9->selenium) (0.12.0)\n"
     ]
    }
   ],
   "source": [
    "#lets first install Selenium Library\n",
    "!pip install selenium"
   ]
  },
  {
   "cell_type": "code",
   "execution_count": 9,
   "id": "8fd9afac",
   "metadata": {},
   "outputs": [],
   "source": [
    "import pandas as pd\n",
    "import selenium\n",
    "from selenium import webdriver"
   ]
  },
  {
   "cell_type": "code",
   "execution_count": 10,
   "id": "d1c5c40c",
   "metadata": {},
   "outputs": [
    {
     "name": "stderr",
     "output_type": "stream",
     "text": [
      "<ipython-input-10-0f08a6a66b4c>:1: DeprecationWarning: executable_path has been deprecated, please pass in a Service object\n",
      "  driver = webdriver.Chrome(r\"C:\\Users\\Hrushikesh\\Desktop\\chromedriver.exe\")\n"
     ]
    }
   ],
   "source": [
    "driver = webdriver.Chrome(r\"C:\\Users\\Hrushikesh\\Desktop\\chromedriver.exe\")"
   ]
  },
  {
   "cell_type": "code",
   "execution_count": 12,
   "id": "8f7cad65",
   "metadata": {},
   "outputs": [],
   "source": [
    "driver.get(\"https://www.naukri.com/\")"
   ]
  },
  {
   "cell_type": "code",
   "execution_count": 13,
   "id": "78635057",
   "metadata": {},
   "outputs": [
    {
     "name": "stderr",
     "output_type": "stream",
     "text": [
      "<ipython-input-13-29f97827f25a>:2: DeprecationWarning: find_element_by_* commands are deprecated. Please use find_element() instead\n",
      "  search_job = driver.find_element_by_id(\"qsb-keyword-sugg\")\n",
      "<ipython-input-13-29f97827f25a>:5: DeprecationWarning: find_element_by_* commands are deprecated. Please use find_element() instead\n",
      "  search_loc = driver.find_element_by_xpath(\"//input[@id='qsb-location-sugg']\")\n"
     ]
    }
   ],
   "source": [
    "# enter “Data Analyst” in “Skill, Designations, Companies” field.\n",
    "search_job = driver.find_element_by_id(\"qsb-keyword-sugg\")\n",
    "search_job.send_keys(\"Data Analyst\")\n",
    "# enter “Bangalore” in “enter the location” field.\n",
    "search_loc = driver.find_element_by_xpath(\"//input[@id='qsb-location-sugg']\")\n",
    "search_loc.send_keys(\"Bangalore\")"
   ]
  },
  {
   "cell_type": "code",
   "execution_count": 14,
   "id": "035f3fce",
   "metadata": {},
   "outputs": [
    {
     "name": "stderr",
     "output_type": "stream",
     "text": [
      "<ipython-input-14-a0ff133df9fe>:2: DeprecationWarning: find_element_by_* commands are deprecated. Please use find_element() instead\n",
      "  search_btn = driver.find_element_by_xpath(\"//div[@class='search-btn']/button\")\n"
     ]
    }
   ],
   "source": [
    "# click the search button\n",
    "search_btn = driver.find_element_by_xpath(\"//div[@class='search-btn']/button\")\n",
    "search_btn.click()"
   ]
  },
  {
   "cell_type": "markdown",
   "id": "a4637ff7",
   "metadata": {},
   "source": [
    "# Scraping the data for the first 10 jobs results"
   ]
  },
  {
   "cell_type": "code",
   "execution_count": 15,
   "id": "b5871af7",
   "metadata": {},
   "outputs": [],
   "source": [
    "url = \"https://www.naukri.com/data-analyst-data-analyst-jobs-in-bangalore?k=data%20analyst%2C%20data%20analyst&l=bangalore\""
   ]
  },
  {
   "cell_type": "code",
   "execution_count": 16,
   "id": "808c57e0",
   "metadata": {},
   "outputs": [],
   "source": [
    "driver.get(url)"
   ]
  },
  {
   "cell_type": "code",
   "execution_count": 17,
   "id": "d5f9caf4",
   "metadata": {},
   "outputs": [],
   "source": [
    "job_title=[]\n",
    "company_name=[]\n",
    "experience_required=[]\n",
    "job_location=[]"
   ]
  },
  {
   "cell_type": "code",
   "execution_count": 18,
   "id": "95bea19b",
   "metadata": {},
   "outputs": [
    {
     "name": "stderr",
     "output_type": "stream",
     "text": [
      "<ipython-input-18-21b8d7f24afe>:1: DeprecationWarning: find_elements_by_* commands are deprecated. Please use find_elements() instead\n",
      "  title_tag = driver.find_elements_by_xpath(\"//a[@class='title fw500 ellipsis']\")\n"
     ]
    },
    {
     "data": {
      "text/plain": [
       "[<selenium.webdriver.remote.webelement.WebElement (session=\"28059084bcf6650b57ec066b753c1432\", element=\"30e0c4a2-b35b-4224-859a-350b61382d5a\")>,\n",
       " <selenium.webdriver.remote.webelement.WebElement (session=\"28059084bcf6650b57ec066b753c1432\", element=\"591d4d8b-6c9e-48b8-9b3a-8d3d1f2188c7\")>,\n",
       " <selenium.webdriver.remote.webelement.WebElement (session=\"28059084bcf6650b57ec066b753c1432\", element=\"bb21e4f0-1069-42ba-9276-97e92f88f112\")>,\n",
       " <selenium.webdriver.remote.webelement.WebElement (session=\"28059084bcf6650b57ec066b753c1432\", element=\"f79c91ca-febc-42eb-96f1-7d80a0e916b1\")>,\n",
       " <selenium.webdriver.remote.webelement.WebElement (session=\"28059084bcf6650b57ec066b753c1432\", element=\"f6ee7c6a-781a-476e-9564-5cc115c4dee0\")>,\n",
       " <selenium.webdriver.remote.webelement.WebElement (session=\"28059084bcf6650b57ec066b753c1432\", element=\"a44cdc1e-b3e4-4b82-8e9d-4089d7d761be\")>,\n",
       " <selenium.webdriver.remote.webelement.WebElement (session=\"28059084bcf6650b57ec066b753c1432\", element=\"4756c08d-416d-4981-8215-357e624bf706\")>,\n",
       " <selenium.webdriver.remote.webelement.WebElement (session=\"28059084bcf6650b57ec066b753c1432\", element=\"e0e07794-23ac-4c56-9320-1b0a95db19d7\")>,\n",
       " <selenium.webdriver.remote.webelement.WebElement (session=\"28059084bcf6650b57ec066b753c1432\", element=\"8bfed613-9f1f-4e36-8330-da9a653e1985\")>,\n",
       " <selenium.webdriver.remote.webelement.WebElement (session=\"28059084bcf6650b57ec066b753c1432\", element=\"2b31f84c-9963-47b6-b4c6-adfc65b5a130\")>]"
      ]
     },
     "execution_count": 18,
     "metadata": {},
     "output_type": "execute_result"
    }
   ],
   "source": [
    "title_tag = driver.find_elements_by_xpath(\"//a[@class='title fw500 ellipsis']\")\n",
    "title_tag[0:10]"
   ]
  },
  {
   "cell_type": "code",
   "execution_count": 19,
   "id": "f59841ce",
   "metadata": {},
   "outputs": [
    {
     "name": "stdout",
     "output_type": "stream",
     "text": [
      "Below are the top 10 job data's job title: \n",
      " ['Hiring -Data Analyst, Business Analyst, MIS Analyst -3rd Party Payroll', 'Data Analyst', 'DG - Business Analyst - Data Visualization & Analytics', 'Data Analyst', 'Data Analyst / Engineer', 'Manager - Data Analyst', 'Data Analyst', 'Job Opportunity For Clinical Data Analyst - CDM', 'Data Analyst', 'Data Analyst']\n"
     ]
    }
   ],
   "source": [
    "for i in title_tag:\n",
    "    title = i.text\n",
    "    job_title.append(title)\n",
    "job_title = job_title[0:10]\n",
    "\n",
    "print(\"Below are the top 10 job data's job title: \\n\", job_title)"
   ]
  },
  {
   "cell_type": "code",
   "execution_count": 20,
   "id": "bbe3561d",
   "metadata": {},
   "outputs": [
    {
     "name": "stderr",
     "output_type": "stream",
     "text": [
      "<ipython-input-20-8fc9ac97e45f>:1: DeprecationWarning: find_elements_by_* commands are deprecated. Please use find_elements() instead\n",
      "  company_tag = driver.find_elements_by_xpath(\"//a[@class='subTitle ellipsis fleft']\")\n"
     ]
    },
    {
     "data": {
      "text/plain": [
       "[<selenium.webdriver.remote.webelement.WebElement (session=\"28059084bcf6650b57ec066b753c1432\", element=\"09cedb22-b753-4bc7-8faa-5f775970402d\")>,\n",
       " <selenium.webdriver.remote.webelement.WebElement (session=\"28059084bcf6650b57ec066b753c1432\", element=\"de0c159b-5c4b-4a6a-a4f5-65041e8fad6a\")>,\n",
       " <selenium.webdriver.remote.webelement.WebElement (session=\"28059084bcf6650b57ec066b753c1432\", element=\"d8febaae-3fc6-4e8d-afd7-d0e7ee70f3db\")>,\n",
       " <selenium.webdriver.remote.webelement.WebElement (session=\"28059084bcf6650b57ec066b753c1432\", element=\"6ffe73fc-ee68-4806-b6bc-ab71452ce76f\")>,\n",
       " <selenium.webdriver.remote.webelement.WebElement (session=\"28059084bcf6650b57ec066b753c1432\", element=\"720d5de2-51b4-4d07-accc-490826b68752\")>,\n",
       " <selenium.webdriver.remote.webelement.WebElement (session=\"28059084bcf6650b57ec066b753c1432\", element=\"923f1373-a9fb-40b5-9831-826c941d99c8\")>,\n",
       " <selenium.webdriver.remote.webelement.WebElement (session=\"28059084bcf6650b57ec066b753c1432\", element=\"29341112-b22d-4a00-8227-ae71cd836ecc\")>,\n",
       " <selenium.webdriver.remote.webelement.WebElement (session=\"28059084bcf6650b57ec066b753c1432\", element=\"2d786f87-d7b2-4102-87a5-0043cf0f48a7\")>,\n",
       " <selenium.webdriver.remote.webelement.WebElement (session=\"28059084bcf6650b57ec066b753c1432\", element=\"70f15265-9252-4566-9be3-f9f8c3184eb4\")>,\n",
       " <selenium.webdriver.remote.webelement.WebElement (session=\"28059084bcf6650b57ec066b753c1432\", element=\"012d39c8-df7e-49ba-9466-64c6be2199b3\")>]"
      ]
     },
     "execution_count": 20,
     "metadata": {},
     "output_type": "execute_result"
    }
   ],
   "source": [
    "company_tag = driver.find_elements_by_xpath(\"//a[@class='subTitle ellipsis fleft']\")\n",
    "company_tag[0:10]"
   ]
  },
  {
   "cell_type": "code",
   "execution_count": 21,
   "id": "311c4e7d",
   "metadata": {},
   "outputs": [
    {
     "name": "stdout",
     "output_type": "stream",
     "text": [
      "Below are the top 10 job data's : \n",
      " ['Genpact', 'GlaxoSmithKline Pharmaceuticals Limited', 'ExecBoardinAsia', 'Cloud Lending Solutions', 'Maruti Suzuki India', 'Rapido', 'Concentrix Daksh Services', 'SYREN TECHNOLOGIES PRIVATE LIMITED', 'CINDREBAY SCHOOL OF FASHION & INTERIOR DESIGN', 'Orcapod Consulting Services Private Limited']\n"
     ]
    }
   ],
   "source": [
    "for i in company_tag:\n",
    "    company = i.text\n",
    "    company_name.append(company)\n",
    "company_name = company_name[10:20]\n",
    "print(\"Below are the top 10 job data's : \\n\", company_name)"
   ]
  },
  {
   "cell_type": "code",
   "execution_count": 22,
   "id": "505a6c36",
   "metadata": {},
   "outputs": [
    {
     "name": "stderr",
     "output_type": "stream",
     "text": [
      "<ipython-input-22-bb72a43f1c3a>:1: DeprecationWarning: find_elements_by_* commands are deprecated. Please use find_elements() instead\n",
      "  exp_tag = driver.find_elements_by_xpath(\"//li[@class='fleft grey-text br2 placeHolderLi experience']\")\n"
     ]
    },
    {
     "data": {
      "text/plain": [
       "[<selenium.webdriver.remote.webelement.WebElement (session=\"28059084bcf6650b57ec066b753c1432\", element=\"1a823981-8748-42f8-9a52-3ddeb44074ec\")>,\n",
       " <selenium.webdriver.remote.webelement.WebElement (session=\"28059084bcf6650b57ec066b753c1432\", element=\"d0f0278d-f3bb-46eb-b3d1-950b56b62871\")>,\n",
       " <selenium.webdriver.remote.webelement.WebElement (session=\"28059084bcf6650b57ec066b753c1432\", element=\"08892a74-74f3-471a-854f-8544bcc6b5eb\")>,\n",
       " <selenium.webdriver.remote.webelement.WebElement (session=\"28059084bcf6650b57ec066b753c1432\", element=\"3c0cb6dc-0741-4774-a369-78b424f5a5bc\")>,\n",
       " <selenium.webdriver.remote.webelement.WebElement (session=\"28059084bcf6650b57ec066b753c1432\", element=\"9d3cbb00-9762-474d-bd6a-240fb7d570ae\")>,\n",
       " <selenium.webdriver.remote.webelement.WebElement (session=\"28059084bcf6650b57ec066b753c1432\", element=\"eb3d4e54-4ea0-4722-9c8c-88329fe7306c\")>,\n",
       " <selenium.webdriver.remote.webelement.WebElement (session=\"28059084bcf6650b57ec066b753c1432\", element=\"6406d34e-8898-4ed0-9dae-cd15f3eb8c23\")>,\n",
       " <selenium.webdriver.remote.webelement.WebElement (session=\"28059084bcf6650b57ec066b753c1432\", element=\"3e9504ec-b6f7-42e0-8a30-e916e507c3ba\")>,\n",
       " <selenium.webdriver.remote.webelement.WebElement (session=\"28059084bcf6650b57ec066b753c1432\", element=\"51f261a3-b0fc-44ab-82bd-7586d3cde322\")>,\n",
       " <selenium.webdriver.remote.webelement.WebElement (session=\"28059084bcf6650b57ec066b753c1432\", element=\"f58b9035-4e36-4d79-a2ac-e6ed9fac251b\")>]"
      ]
     },
     "execution_count": 22,
     "metadata": {},
     "output_type": "execute_result"
    }
   ],
   "source": [
    "exp_tag = driver.find_elements_by_xpath(\"//li[@class='fleft grey-text br2 placeHolderLi experience']\")\n",
    "exp_tag[0:10]"
   ]
  },
  {
   "cell_type": "code",
   "execution_count": 24,
   "id": "5fdc3864",
   "metadata": {},
   "outputs": [
    {
     "name": "stdout",
     "output_type": "stream",
     "text": [
      "Below are the top 10 job data's job title: \n",
      " ['1-6', '3-8', '5-10', '2-5', '4-9', '5-10', '3-7', '3-8', '3-6', '2-5']\n"
     ]
    }
   ],
   "source": [
    "for i in exp_tag: \n",
    "    experience_required.append(i.text.split(\" \")[0])\n",
    "experience_required= experience_required[0:10]\n",
    "print(\"Below are the top 10 job data's job title: \\n\", experience_required)\n"
   ]
  },
  {
   "cell_type": "code",
   "execution_count": 25,
   "id": "7737e5d6",
   "metadata": {},
   "outputs": [
    {
     "name": "stderr",
     "output_type": "stream",
     "text": [
      "<ipython-input-25-fc55430f8cc0>:1: DeprecationWarning: find_elements_by_* commands are deprecated. Please use find_elements() instead\n",
      "  location_tag = driver.find_elements_by_xpath(\"//li[@class='fleft grey-text br2 placeHolderLi location']\")\n"
     ]
    },
    {
     "data": {
      "text/plain": [
       "[<selenium.webdriver.remote.webelement.WebElement (session=\"28059084bcf6650b57ec066b753c1432\", element=\"a5f87809-c823-478d-adec-7f617c3a66ad\")>,\n",
       " <selenium.webdriver.remote.webelement.WebElement (session=\"28059084bcf6650b57ec066b753c1432\", element=\"41a5724b-c0f1-41d5-bf48-1cfa9469c6fc\")>,\n",
       " <selenium.webdriver.remote.webelement.WebElement (session=\"28059084bcf6650b57ec066b753c1432\", element=\"8562bb8e-ee3e-42aa-b302-0dc7dd1ff2d1\")>,\n",
       " <selenium.webdriver.remote.webelement.WebElement (session=\"28059084bcf6650b57ec066b753c1432\", element=\"e8ab738e-9796-470c-9df6-d05669d3b1ce\")>,\n",
       " <selenium.webdriver.remote.webelement.WebElement (session=\"28059084bcf6650b57ec066b753c1432\", element=\"46375de9-00f6-4a2f-bea9-bbb4121480dd\")>,\n",
       " <selenium.webdriver.remote.webelement.WebElement (session=\"28059084bcf6650b57ec066b753c1432\", element=\"519b26b2-709c-41e7-9ad8-3fdcaf95fae3\")>,\n",
       " <selenium.webdriver.remote.webelement.WebElement (session=\"28059084bcf6650b57ec066b753c1432\", element=\"f127018c-b89b-4de1-b1e4-8f67b7847e75\")>,\n",
       " <selenium.webdriver.remote.webelement.WebElement (session=\"28059084bcf6650b57ec066b753c1432\", element=\"35a9dbb7-56b9-487d-8989-c965a61f3d4d\")>,\n",
       " <selenium.webdriver.remote.webelement.WebElement (session=\"28059084bcf6650b57ec066b753c1432\", element=\"064e8186-f710-4b0c-9ba8-66bb4fbf22c5\")>,\n",
       " <selenium.webdriver.remote.webelement.WebElement (session=\"28059084bcf6650b57ec066b753c1432\", element=\"dafe7ebd-bcbd-40a2-8a12-0680b165dd70\")>]"
      ]
     },
     "execution_count": 25,
     "metadata": {},
     "output_type": "execute_result"
    }
   ],
   "source": [
    "location_tag = driver.find_elements_by_xpath(\"//li[@class='fleft grey-text br2 placeHolderLi location']\")\n",
    "location_tag[0:10]"
   ]
  },
  {
   "cell_type": "code",
   "execution_count": 26,
   "id": "0176a9ca",
   "metadata": {},
   "outputs": [
    {
     "name": "stdout",
     "output_type": "stream",
     "text": [
      "Below are the top 10 job data's company location \n",
      " ['Bangalore/Bengaluru', 'Bangalore/Bengaluru', 'Bangalore/Bengaluru', 'Bangalore/Bengaluru', 'Chennai, Bangalore/Bengaluru', 'Bangalore/Bengaluru', 'Bangalore/Bengaluru', 'Kolkata, Hyderabad/Secunderabad, Pune, Chennai, Bangalore/Bengaluru, Delhi / NCR, Mumbai (All Areas)\\n(WFH during Covid)', 'Bangalore/Bengaluru', 'Bangalore/Bengaluru']\n"
     ]
    }
   ],
   "source": [
    "for i in location_tag:\n",
    "    location = i.text\n",
    "    job_location.append(location)\n",
    "job_location = job_location[0:10]\n",
    "print(\"Below are the top 10 job data's company location \\n\", job_location)"
   ]
  },
  {
   "cell_type": "code",
   "execution_count": 27,
   "id": "773db38a",
   "metadata": {},
   "outputs": [
    {
     "data": {
      "text/html": [
       "<div>\n",
       "<style scoped>\n",
       "    .dataframe tbody tr th:only-of-type {\n",
       "        vertical-align: middle;\n",
       "    }\n",
       "\n",
       "    .dataframe tbody tr th {\n",
       "        vertical-align: top;\n",
       "    }\n",
       "\n",
       "    .dataframe thead th {\n",
       "        text-align: right;\n",
       "    }\n",
       "</style>\n",
       "<table border=\"1\" class=\"dataframe\">\n",
       "  <thead>\n",
       "    <tr style=\"text-align: right;\">\n",
       "      <th></th>\n",
       "      <th>Title</th>\n",
       "      <th>Location</th>\n",
       "      <th>Company_Name</th>\n",
       "      <th>Experience</th>\n",
       "    </tr>\n",
       "  </thead>\n",
       "  <tbody>\n",
       "    <tr>\n",
       "      <th>0</th>\n",
       "      <td>Hiring -Data Analyst, Business Analyst, MIS An...</td>\n",
       "      <td>Bangalore/Bengaluru</td>\n",
       "      <td>Genpact</td>\n",
       "      <td>1-6</td>\n",
       "    </tr>\n",
       "    <tr>\n",
       "      <th>1</th>\n",
       "      <td>Data Analyst</td>\n",
       "      <td>Bangalore/Bengaluru</td>\n",
       "      <td>GlaxoSmithKline Pharmaceuticals Limited</td>\n",
       "      <td>3-8</td>\n",
       "    </tr>\n",
       "    <tr>\n",
       "      <th>2</th>\n",
       "      <td>DG - Business Analyst - Data Visualization &amp; A...</td>\n",
       "      <td>Bangalore/Bengaluru</td>\n",
       "      <td>ExecBoardinAsia</td>\n",
       "      <td>5-10</td>\n",
       "    </tr>\n",
       "    <tr>\n",
       "      <th>3</th>\n",
       "      <td>Data Analyst</td>\n",
       "      <td>Bangalore/Bengaluru</td>\n",
       "      <td>Cloud Lending Solutions</td>\n",
       "      <td>2-5</td>\n",
       "    </tr>\n",
       "    <tr>\n",
       "      <th>4</th>\n",
       "      <td>Data Analyst / Engineer</td>\n",
       "      <td>Chennai, Bangalore/Bengaluru</td>\n",
       "      <td>Maruti Suzuki India</td>\n",
       "      <td>4-9</td>\n",
       "    </tr>\n",
       "    <tr>\n",
       "      <th>5</th>\n",
       "      <td>Manager - Data Analyst</td>\n",
       "      <td>Bangalore/Bengaluru</td>\n",
       "      <td>Rapido</td>\n",
       "      <td>5-10</td>\n",
       "    </tr>\n",
       "    <tr>\n",
       "      <th>6</th>\n",
       "      <td>Data Analyst</td>\n",
       "      <td>Bangalore/Bengaluru</td>\n",
       "      <td>Concentrix Daksh Services</td>\n",
       "      <td>3-7</td>\n",
       "    </tr>\n",
       "    <tr>\n",
       "      <th>7</th>\n",
       "      <td>Job Opportunity For Clinical Data Analyst - CDM</td>\n",
       "      <td>Kolkata, Hyderabad/Secunderabad, Pune, Chennai...</td>\n",
       "      <td>SYREN TECHNOLOGIES PRIVATE LIMITED</td>\n",
       "      <td>3-8</td>\n",
       "    </tr>\n",
       "    <tr>\n",
       "      <th>8</th>\n",
       "      <td>Data Analyst</td>\n",
       "      <td>Bangalore/Bengaluru</td>\n",
       "      <td>CINDREBAY SCHOOL OF FASHION &amp; INTERIOR DESIGN</td>\n",
       "      <td>3-6</td>\n",
       "    </tr>\n",
       "    <tr>\n",
       "      <th>9</th>\n",
       "      <td>Data Analyst</td>\n",
       "      <td>Bangalore/Bengaluru</td>\n",
       "      <td>Orcapod Consulting Services Private Limited</td>\n",
       "      <td>2-5</td>\n",
       "    </tr>\n",
       "  </tbody>\n",
       "</table>\n",
       "</div>"
      ],
      "text/plain": [
       "                                               Title  \\\n",
       "0  Hiring -Data Analyst, Business Analyst, MIS An...   \n",
       "1                                       Data Analyst   \n",
       "2  DG - Business Analyst - Data Visualization & A...   \n",
       "3                                       Data Analyst   \n",
       "4                            Data Analyst / Engineer   \n",
       "5                             Manager - Data Analyst   \n",
       "6                                       Data Analyst   \n",
       "7    Job Opportunity For Clinical Data Analyst - CDM   \n",
       "8                                       Data Analyst   \n",
       "9                                       Data Analyst   \n",
       "\n",
       "                                            Location  \\\n",
       "0                                Bangalore/Bengaluru   \n",
       "1                                Bangalore/Bengaluru   \n",
       "2                                Bangalore/Bengaluru   \n",
       "3                                Bangalore/Bengaluru   \n",
       "4                       Chennai, Bangalore/Bengaluru   \n",
       "5                                Bangalore/Bengaluru   \n",
       "6                                Bangalore/Bengaluru   \n",
       "7  Kolkata, Hyderabad/Secunderabad, Pune, Chennai...   \n",
       "8                                Bangalore/Bengaluru   \n",
       "9                                Bangalore/Bengaluru   \n",
       "\n",
       "                                    Company_Name Experience  \n",
       "0                                        Genpact        1-6  \n",
       "1        GlaxoSmithKline Pharmaceuticals Limited        3-8  \n",
       "2                                ExecBoardinAsia       5-10  \n",
       "3                        Cloud Lending Solutions        2-5  \n",
       "4                            Maruti Suzuki India        4-9  \n",
       "5                                         Rapido       5-10  \n",
       "6                      Concentrix Daksh Services        3-7  \n",
       "7             SYREN TECHNOLOGIES PRIVATE LIMITED        3-8  \n",
       "8  CINDREBAY SCHOOL OF FASHION & INTERIOR DESIGN        3-6  \n",
       "9    Orcapod Consulting Services Private Limited        2-5  "
      ]
     },
     "execution_count": 27,
     "metadata": {},
     "output_type": "execute_result"
    }
   ],
   "source": [
    "naukri_analytics = pd.DataFrame({'Title':job_title, \n",
    "                       'Location': job_location,\n",
    "                       'Company_Name':company_name, \n",
    "                       'Experience':experience_required,                        \n",
    "                       })\n",
    "naukri_analytics"
   ]
  },
  {
   "cell_type": "markdown",
   "id": "df4056f9",
   "metadata": {},
   "source": [
    "# Q2: Write a python program to scrape data for “Data Scientist” Job position in “Bangalore” location. You have to scrape the job-title, job-location, company_name. You have to scrape first 10 jobs data."
   ]
  },
  {
   "cell_type": "code",
   "execution_count": 30,
   "id": "eac64c47",
   "metadata": {},
   "outputs": [
    {
     "name": "stderr",
     "output_type": "stream",
     "text": [
      "<ipython-input-30-ffec9e20a4f6>:2: DeprecationWarning: executable_path has been deprecated, please pass in a Service object\n",
      "  driver = webdriver.Chrome(r\"C:\\Users\\Hrushikesh\\Desktop\\chromedriver.exe\")\n"
     ]
    }
   ],
   "source": [
    "# connect to webdriver\n",
    "driver = webdriver.Chrome(r\"C:\\Users\\Hrushikesh\\Desktop\\chromedriver.exe\")\n",
    "# get webpage\n",
    "driver.get(\"https://www.naukri.com/\")"
   ]
  },
  {
   "cell_type": "code",
   "execution_count": 31,
   "id": "9f77f185",
   "metadata": {},
   "outputs": [
    {
     "name": "stderr",
     "output_type": "stream",
     "text": [
      "<ipython-input-31-9c1f93df4f61>:2: DeprecationWarning: find_element_by_* commands are deprecated. Please use find_element() instead\n",
      "  search_job = driver.find_element_by_id(\"qsb-keyword-sugg\")\n",
      "<ipython-input-31-9c1f93df4f61>:5: DeprecationWarning: find_element_by_* commands are deprecated. Please use find_element() instead\n",
      "  search_loc = driver.find_element_by_xpath(\"//input[@id='qsb-location-sugg']\")\n",
      "<ipython-input-31-9c1f93df4f61>:8: DeprecationWarning: find_element_by_* commands are deprecated. Please use find_element() instead\n",
      "  search_btn = driver.find_element_by_xpath(\"//div[@class='search-btn']/button\")\n"
     ]
    }
   ],
   "source": [
    "# enter “Data Scientist” in “Skill, Designations, Companies” field.\n",
    "search_job = driver.find_element_by_id(\"qsb-keyword-sugg\")\n",
    "search_job.send_keys(\"Data Scientist\")\n",
    "# enter “Bangalore” in “enter the location” field.\n",
    "search_loc = driver.find_element_by_xpath(\"//input[@id='qsb-location-sugg']\")\n",
    "search_loc.send_keys(\"Bangalore\")\n",
    "# click the search button\n",
    "search_btn = driver.find_element_by_xpath(\"//div[@class='search-btn']/button\")\n",
    "search_btn.click()\n"
   ]
  },
  {
   "cell_type": "code",
   "execution_count": 32,
   "id": "8e7d46fa",
   "metadata": {},
   "outputs": [],
   "source": [
    "# specifying the url of the webpage to be scraped\n",
    "url = \"https://www.naukri.com/data-scientist-data-scientist-jobs-in-bangalore?k=data%20scientist%2C%20data%20scientist&l=bangalore%2C%20bangalore\"\n",
    "\n",
    "# open the webpage through our web driver\n",
    "driver.get(url)"
   ]
  },
  {
   "cell_type": "code",
   "execution_count": 33,
   "id": "bc0fdd12",
   "metadata": {},
   "outputs": [],
   "source": [
    "job_title=[]\n",
    "job_location=[]\n",
    "company_name=[]"
   ]
  },
  {
   "cell_type": "code",
   "execution_count": 34,
   "id": "ea4b5b0f",
   "metadata": {},
   "outputs": [
    {
     "name": "stderr",
     "output_type": "stream",
     "text": [
      "<ipython-input-34-21b8d7f24afe>:1: DeprecationWarning: find_elements_by_* commands are deprecated. Please use find_elements() instead\n",
      "  title_tag = driver.find_elements_by_xpath(\"//a[@class='title fw500 ellipsis']\")\n"
     ]
    },
    {
     "data": {
      "text/plain": [
       "[<selenium.webdriver.remote.webelement.WebElement (session=\"a14397a5aadeb1fa6f05bce62f4991d2\", element=\"3aaccfb6-3c04-4fb1-9191-1c934de4772e\")>,\n",
       " <selenium.webdriver.remote.webelement.WebElement (session=\"a14397a5aadeb1fa6f05bce62f4991d2\", element=\"6ff307e8-a179-4f70-ae87-425ccca1297d\")>,\n",
       " <selenium.webdriver.remote.webelement.WebElement (session=\"a14397a5aadeb1fa6f05bce62f4991d2\", element=\"792a68a6-8d7e-40aa-a473-1cdf8943ae11\")>,\n",
       " <selenium.webdriver.remote.webelement.WebElement (session=\"a14397a5aadeb1fa6f05bce62f4991d2\", element=\"afe02e67-312c-464f-a1e7-9a589de7bf09\")>,\n",
       " <selenium.webdriver.remote.webelement.WebElement (session=\"a14397a5aadeb1fa6f05bce62f4991d2\", element=\"fd148e01-3ea1-4187-95d7-96892f6e0595\")>,\n",
       " <selenium.webdriver.remote.webelement.WebElement (session=\"a14397a5aadeb1fa6f05bce62f4991d2\", element=\"bd70afcf-559f-453c-af1f-15cbb6bed55c\")>,\n",
       " <selenium.webdriver.remote.webelement.WebElement (session=\"a14397a5aadeb1fa6f05bce62f4991d2\", element=\"42d80d82-863c-4c23-b446-4e909f7dda52\")>,\n",
       " <selenium.webdriver.remote.webelement.WebElement (session=\"a14397a5aadeb1fa6f05bce62f4991d2\", element=\"8ded0658-f564-4d52-b18a-da486420d0a6\")>,\n",
       " <selenium.webdriver.remote.webelement.WebElement (session=\"a14397a5aadeb1fa6f05bce62f4991d2\", element=\"120bdfc4-f355-4da2-9bdb-c30ac96782f2\")>,\n",
       " <selenium.webdriver.remote.webelement.WebElement (session=\"a14397a5aadeb1fa6f05bce62f4991d2\", element=\"6271ade5-d3f4-43f5-a7b9-2cbf5010d0ce\")>]"
      ]
     },
     "execution_count": 34,
     "metadata": {},
     "output_type": "execute_result"
    }
   ],
   "source": [
    "title_tag = driver.find_elements_by_xpath(\"//a[@class='title fw500 ellipsis']\")\n",
    "title_tag[0:10]"
   ]
  },
  {
   "cell_type": "code",
   "execution_count": 35,
   "id": "8f56352a",
   "metadata": {},
   "outputs": [
    {
     "name": "stdout",
     "output_type": "stream",
     "text": [
      "Below are the top 10 job data's job title: \n",
      " ['Data Scientist: Advanced Analytics', 'Data Scientist - Risk Platform', 'Data Scientist - Risk Platform', 'Data scientist', 'Data Scientist', 'Data Scientist', 'Senior data scientist', 'Healthcare Data Scientist', 'Deputy Manager - Data Scientist', 'Tcs Hiring For Azure ML Data Scientist']\n"
     ]
    }
   ],
   "source": [
    "for i in title_tag:\n",
    "    title = i.text\n",
    "    job_title.append(title)\n",
    "job_title = job_title[0:10]\n",
    "\n",
    "print(\"Below are the top 10 job data's job title: \\n\", job_title)"
   ]
  },
  {
   "cell_type": "code",
   "execution_count": 36,
   "id": "48a38c0b",
   "metadata": {},
   "outputs": [
    {
     "name": "stderr",
     "output_type": "stream",
     "text": [
      "<ipython-input-36-fc55430f8cc0>:1: DeprecationWarning: find_elements_by_* commands are deprecated. Please use find_elements() instead\n",
      "  location_tag = driver.find_elements_by_xpath(\"//li[@class='fleft grey-text br2 placeHolderLi location']\")\n"
     ]
    },
    {
     "data": {
      "text/plain": [
       "[<selenium.webdriver.remote.webelement.WebElement (session=\"a14397a5aadeb1fa6f05bce62f4991d2\", element=\"a938c80b-0be2-4065-81ec-80fd23f7abe4\")>,\n",
       " <selenium.webdriver.remote.webelement.WebElement (session=\"a14397a5aadeb1fa6f05bce62f4991d2\", element=\"2fcdfb5b-85cc-4387-bc78-77d541a1a431\")>,\n",
       " <selenium.webdriver.remote.webelement.WebElement (session=\"a14397a5aadeb1fa6f05bce62f4991d2\", element=\"638cf7b2-9ba7-41ea-9759-8a92f1a5a512\")>,\n",
       " <selenium.webdriver.remote.webelement.WebElement (session=\"a14397a5aadeb1fa6f05bce62f4991d2\", element=\"e8e39686-c6ca-4ec4-9b5d-c24a47a0683f\")>,\n",
       " <selenium.webdriver.remote.webelement.WebElement (session=\"a14397a5aadeb1fa6f05bce62f4991d2\", element=\"0c804980-9971-4bd0-b08a-ac44d1c1ca8f\")>,\n",
       " <selenium.webdriver.remote.webelement.WebElement (session=\"a14397a5aadeb1fa6f05bce62f4991d2\", element=\"1e268898-3f5a-4d34-af50-7570503476fc\")>,\n",
       " <selenium.webdriver.remote.webelement.WebElement (session=\"a14397a5aadeb1fa6f05bce62f4991d2\", element=\"ba1f5ccd-a78b-4f8b-838d-c32e2adf4eb7\")>,\n",
       " <selenium.webdriver.remote.webelement.WebElement (session=\"a14397a5aadeb1fa6f05bce62f4991d2\", element=\"385ebbde-0d0e-44d3-87af-ec9211fa7e92\")>,\n",
       " <selenium.webdriver.remote.webelement.WebElement (session=\"a14397a5aadeb1fa6f05bce62f4991d2\", element=\"f245629b-070c-4326-bacd-af38668f626c\")>,\n",
       " <selenium.webdriver.remote.webelement.WebElement (session=\"a14397a5aadeb1fa6f05bce62f4991d2\", element=\"5ef0c637-62bb-42b8-adf5-cdf2c2b10cc5\")>]"
      ]
     },
     "execution_count": 36,
     "metadata": {},
     "output_type": "execute_result"
    }
   ],
   "source": [
    "location_tag = driver.find_elements_by_xpath(\"//li[@class='fleft grey-text br2 placeHolderLi location']\")\n",
    "location_tag[0:10]"
   ]
  },
  {
   "cell_type": "code",
   "execution_count": 37,
   "id": "d2372eeb",
   "metadata": {},
   "outputs": [
    {
     "name": "stdout",
     "output_type": "stream",
     "text": [
      "Below are the top 10 job data's company location \n",
      " ['Bengaluru/Bangalore', 'Bangalore/Bengaluru', 'Bangalore/Bengaluru', 'Bangalore/Bengaluru', 'Bangalore/Bengaluru', 'Bangalore/Bengaluru', 'Bangalore/Bengaluru', 'Chennai, Bangalore/Bengaluru\\n(WFH during Covid)', 'Bangalore/Bengaluru', 'Hyderabad/Secunderabad, Bangalore/Bengaluru, Mumbai (All Areas)']\n"
     ]
    }
   ],
   "source": [
    "for i in location_tag:\n",
    "    location = i.text\n",
    "    job_location.append(location)\n",
    "job_location = job_location[0:10]\n",
    "print(\"Below are the top 10 job data's company location \\n\", job_location)\n"
   ]
  },
  {
   "cell_type": "code",
   "execution_count": 38,
   "id": "a0a89b77",
   "metadata": {},
   "outputs": [
    {
     "name": "stderr",
     "output_type": "stream",
     "text": [
      "<ipython-input-38-8fc9ac97e45f>:1: DeprecationWarning: find_elements_by_* commands are deprecated. Please use find_elements() instead\n",
      "  company_tag = driver.find_elements_by_xpath(\"//a[@class='subTitle ellipsis fleft']\")\n"
     ]
    },
    {
     "data": {
      "text/plain": [
       "[<selenium.webdriver.remote.webelement.WebElement (session=\"a14397a5aadeb1fa6f05bce62f4991d2\", element=\"f4b70929-6fa4-466c-95dd-f4c1f9de88ed\")>,\n",
       " <selenium.webdriver.remote.webelement.WebElement (session=\"a14397a5aadeb1fa6f05bce62f4991d2\", element=\"c0dc3bb0-4ad5-457a-bf68-f7f37db278e9\")>,\n",
       " <selenium.webdriver.remote.webelement.WebElement (session=\"a14397a5aadeb1fa6f05bce62f4991d2\", element=\"88530ab9-1fde-4397-8714-9f131cfd8706\")>,\n",
       " <selenium.webdriver.remote.webelement.WebElement (session=\"a14397a5aadeb1fa6f05bce62f4991d2\", element=\"f5ff9cf9-4e83-46d3-b3d5-a53e32dd6422\")>,\n",
       " <selenium.webdriver.remote.webelement.WebElement (session=\"a14397a5aadeb1fa6f05bce62f4991d2\", element=\"404cfe8e-d806-49db-bce9-b9c374d4d7ad\")>,\n",
       " <selenium.webdriver.remote.webelement.WebElement (session=\"a14397a5aadeb1fa6f05bce62f4991d2\", element=\"8924e15c-dd64-49e7-a16a-1e75cc66bb18\")>,\n",
       " <selenium.webdriver.remote.webelement.WebElement (session=\"a14397a5aadeb1fa6f05bce62f4991d2\", element=\"6b0d8852-fa68-4577-afb7-71ff981a06c6\")>,\n",
       " <selenium.webdriver.remote.webelement.WebElement (session=\"a14397a5aadeb1fa6f05bce62f4991d2\", element=\"065de1bb-2a8a-49e0-bcb9-6359b0b8f1d2\")>,\n",
       " <selenium.webdriver.remote.webelement.WebElement (session=\"a14397a5aadeb1fa6f05bce62f4991d2\", element=\"03195a5b-cf4d-4738-ba55-2beda5fd2948\")>,\n",
       " <selenium.webdriver.remote.webelement.WebElement (session=\"a14397a5aadeb1fa6f05bce62f4991d2\", element=\"19b80e84-e036-4092-899a-dcf7b8c38353\")>]"
      ]
     },
     "execution_count": 38,
     "metadata": {},
     "output_type": "execute_result"
    }
   ],
   "source": [
    "company_tag = driver.find_elements_by_xpath(\"//a[@class='subTitle ellipsis fleft']\")\n",
    "company_tag[0:10]"
   ]
  },
  {
   "cell_type": "code",
   "execution_count": 39,
   "id": "7e9ca605",
   "metadata": {},
   "outputs": [
    {
     "name": "stdout",
     "output_type": "stream",
     "text": [
      "Below are the top 10 job data's : \n",
      " ['IBM India Pvt. Limited', 'Gojek Tech', 'GO-JEK India', 'Superior Group', 'Twilio', 'Thoucentric Technology Pvt ltd', 'Compile Inc', 'Accumed Practice Management DMCC', 'HDFC LIFE INSURANCE COMPANY LIMITED', 'Tata Consultancy Services Ltd.']\n"
     ]
    }
   ],
   "source": [
    "for i in company_tag:\n",
    "    company = i.text\n",
    "    company_name.append(company)\n",
    "company_name = company_name[0:10]\n",
    "print(\"Below are the top 10 job data's : \\n\", company_name)"
   ]
  },
  {
   "cell_type": "code",
   "execution_count": 40,
   "id": "13f0a8d2",
   "metadata": {},
   "outputs": [
    {
     "data": {
      "text/html": [
       "<div>\n",
       "<style scoped>\n",
       "    .dataframe tbody tr th:only-of-type {\n",
       "        vertical-align: middle;\n",
       "    }\n",
       "\n",
       "    .dataframe tbody tr th {\n",
       "        vertical-align: top;\n",
       "    }\n",
       "\n",
       "    .dataframe thead th {\n",
       "        text-align: right;\n",
       "    }\n",
       "</style>\n",
       "<table border=\"1\" class=\"dataframe\">\n",
       "  <thead>\n",
       "    <tr style=\"text-align: right;\">\n",
       "      <th></th>\n",
       "      <th>Title</th>\n",
       "      <th>Location</th>\n",
       "      <th>Company_Name</th>\n",
       "    </tr>\n",
       "  </thead>\n",
       "  <tbody>\n",
       "    <tr>\n",
       "      <th>0</th>\n",
       "      <td>Data Scientist: Advanced Analytics</td>\n",
       "      <td>Bengaluru/Bangalore</td>\n",
       "      <td>IBM India Pvt. Limited</td>\n",
       "    </tr>\n",
       "    <tr>\n",
       "      <th>1</th>\n",
       "      <td>Data Scientist - Risk Platform</td>\n",
       "      <td>Bangalore/Bengaluru</td>\n",
       "      <td>Gojek Tech</td>\n",
       "    </tr>\n",
       "    <tr>\n",
       "      <th>2</th>\n",
       "      <td>Data Scientist - Risk Platform</td>\n",
       "      <td>Bangalore/Bengaluru</td>\n",
       "      <td>GO-JEK India</td>\n",
       "    </tr>\n",
       "    <tr>\n",
       "      <th>3</th>\n",
       "      <td>Data scientist</td>\n",
       "      <td>Bangalore/Bengaluru</td>\n",
       "      <td>Superior Group</td>\n",
       "    </tr>\n",
       "    <tr>\n",
       "      <th>4</th>\n",
       "      <td>Data Scientist</td>\n",
       "      <td>Bangalore/Bengaluru</td>\n",
       "      <td>Twilio</td>\n",
       "    </tr>\n",
       "    <tr>\n",
       "      <th>5</th>\n",
       "      <td>Data Scientist</td>\n",
       "      <td>Bangalore/Bengaluru</td>\n",
       "      <td>Thoucentric Technology Pvt ltd</td>\n",
       "    </tr>\n",
       "    <tr>\n",
       "      <th>6</th>\n",
       "      <td>Senior data scientist</td>\n",
       "      <td>Bangalore/Bengaluru</td>\n",
       "      <td>Compile Inc</td>\n",
       "    </tr>\n",
       "    <tr>\n",
       "      <th>7</th>\n",
       "      <td>Healthcare Data Scientist</td>\n",
       "      <td>Chennai, Bangalore/Bengaluru\\n(WFH during Covid)</td>\n",
       "      <td>Accumed Practice Management DMCC</td>\n",
       "    </tr>\n",
       "    <tr>\n",
       "      <th>8</th>\n",
       "      <td>Deputy Manager - Data Scientist</td>\n",
       "      <td>Bangalore/Bengaluru</td>\n",
       "      <td>HDFC LIFE INSURANCE COMPANY LIMITED</td>\n",
       "    </tr>\n",
       "    <tr>\n",
       "      <th>9</th>\n",
       "      <td>Tcs Hiring For Azure ML Data Scientist</td>\n",
       "      <td>Hyderabad/Secunderabad, Bangalore/Bengaluru, M...</td>\n",
       "      <td>Tata Consultancy Services Ltd.</td>\n",
       "    </tr>\n",
       "  </tbody>\n",
       "</table>\n",
       "</div>"
      ],
      "text/plain": [
       "                                    Title  \\\n",
       "0      Data Scientist: Advanced Analytics   \n",
       "1          Data Scientist - Risk Platform   \n",
       "2          Data Scientist - Risk Platform   \n",
       "3                          Data scientist   \n",
       "4                          Data Scientist   \n",
       "5                          Data Scientist   \n",
       "6                   Senior data scientist   \n",
       "7               Healthcare Data Scientist   \n",
       "8         Deputy Manager - Data Scientist   \n",
       "9  Tcs Hiring For Azure ML Data Scientist   \n",
       "\n",
       "                                            Location  \\\n",
       "0                                Bengaluru/Bangalore   \n",
       "1                                Bangalore/Bengaluru   \n",
       "2                                Bangalore/Bengaluru   \n",
       "3                                Bangalore/Bengaluru   \n",
       "4                                Bangalore/Bengaluru   \n",
       "5                                Bangalore/Bengaluru   \n",
       "6                                Bangalore/Bengaluru   \n",
       "7   Chennai, Bangalore/Bengaluru\\n(WFH during Covid)   \n",
       "8                                Bangalore/Bengaluru   \n",
       "9  Hyderabad/Secunderabad, Bangalore/Bengaluru, M...   \n",
       "\n",
       "                          Company_Name  \n",
       "0               IBM India Pvt. Limited  \n",
       "1                           Gojek Tech  \n",
       "2                         GO-JEK India  \n",
       "3                       Superior Group  \n",
       "4                               Twilio  \n",
       "5       Thoucentric Technology Pvt ltd  \n",
       "6                          Compile Inc  \n",
       "7     Accumed Practice Management DMCC  \n",
       "8  HDFC LIFE INSURANCE COMPANY LIMITED  \n",
       "9       Tata Consultancy Services Ltd.  "
      ]
     },
     "execution_count": 40,
     "metadata": {},
     "output_type": "execute_result"
    }
   ],
   "source": [
    "naukri_scientist = pd.DataFrame({'Title':job_title, \n",
    "                       'Location': job_location,\n",
    "                       'Company_Name':company_name,                                   \n",
    "                       })\n",
    "naukri_scientist"
   ]
  },
  {
   "cell_type": "markdown",
   "id": "e3a0ce80",
   "metadata": {},
   "source": [
    "# Q3: In this question you have to scrape data using the filters available on the webpage as shown below:\n",
    "You have to use the location and salary filter.\n",
    "You have to scrape data for “Data Scientist” designation for first 10 job results.\n",
    "You have to scrape the job-title, job-location, company name, experience required.\n",
    "The location filter to be used is “Delhi/NCR” The salary filter to be used is “3-6” lakhs\n",
    "The task will be done as shown in the below steps:"
   ]
  },
  {
   "cell_type": "code",
   "execution_count": 41,
   "id": "784baaf7",
   "metadata": {},
   "outputs": [],
   "source": [
    "driver.get(\"https://www.naukri.com/\")"
   ]
  },
  {
   "cell_type": "code",
   "execution_count": 42,
   "id": "40dbb81e",
   "metadata": {},
   "outputs": [
    {
     "name": "stderr",
     "output_type": "stream",
     "text": [
      "<ipython-input-42-7fd1e6a4691e>:2: DeprecationWarning: find_element_by_* commands are deprecated. Please use find_element() instead\n",
      "  search_job = driver.find_element_by_id(\"qsb-keyword-sugg\")\n",
      "<ipython-input-42-7fd1e6a4691e>:6: DeprecationWarning: find_element_by_* commands are deprecated. Please use find_element() instead\n",
      "  search_btn = driver.find_element_by_xpath(\"//div[@class='search-btn']/button\")\n"
     ]
    }
   ],
   "source": [
    "# enter “Data Scientist” in “Skill, Designations, Companies” field.\n",
    "search_job = driver.find_element_by_id(\"qsb-keyword-sugg\")\n",
    "search_job.send_keys(\"Data Scientist\")\n",
    "\n",
    "# click the search button\n",
    "search_btn = driver.find_element_by_xpath(\"//div[@class='search-btn']/button\")\n",
    "search_btn.click()"
   ]
  },
  {
   "cell_type": "code",
   "execution_count": 43,
   "id": "14ec40f4",
   "metadata": {},
   "outputs": [
    {
     "name": "stderr",
     "output_type": "stream",
     "text": [
      "<ipython-input-43-aa678468cef4>:1: DeprecationWarning: find_elements_by_* commands are deprecated. Please use find_elements() instead\n",
      "  loc_clk=driver.find_elements_by_xpath(\"//span[@class='ellipsis fleft']\")\n"
     ]
    }
   ],
   "source": [
    "loc_clk=driver.find_elements_by_xpath(\"//span[@class='ellipsis fleft']\")\n",
    "for i in loc_clk:\n",
    "    if i.text == 'Delhi / NCR':   \n",
    "        i.click() # Checking the checkbox to apply filter on the location\n",
    "        break "
   ]
  },
  {
   "cell_type": "code",
   "execution_count": 44,
   "id": "5fb16d0c",
   "metadata": {},
   "outputs": [
    {
     "name": "stderr",
     "output_type": "stream",
     "text": [
      "<ipython-input-44-d831f2cb7f3a>:1: DeprecationWarning: find_elements_by_* commands are deprecated. Please use find_elements() instead\n",
      "  sal_clk=driver.find_elements_by_xpath(\"//span[@class='ellipsis fleft']\")\n"
     ]
    }
   ],
   "source": [
    "sal_clk=driver.find_elements_by_xpath(\"//span[@class='ellipsis fleft']\")\n",
    "for i in sal_clk:\n",
    "    if i.text == '3-6 Lakhs':   \n",
    "        i.click() # Checking the checkbox to apply filter on the salary\n",
    "        break  "
   ]
  },
  {
   "cell_type": "code",
   "execution_count": 45,
   "id": "548f4378",
   "metadata": {},
   "outputs": [],
   "source": [
    "url = \"https://www.naukri.com/data-scientist-jobs?k=data%20scientist&cityTypeGid=9508&ctcFilter=3to6\"\n",
    "\n",
    "# open the webpage through our web driver\n",
    "driver.get(url)"
   ]
  },
  {
   "cell_type": "code",
   "execution_count": 46,
   "id": "ff06cbb4",
   "metadata": {},
   "outputs": [],
   "source": [
    "job_title=[]\n",
    "company_name=[]\n",
    "job_location=[]\n",
    "experience_required=[]"
   ]
  },
  {
   "cell_type": "code",
   "execution_count": 47,
   "id": "a3dd7753",
   "metadata": {},
   "outputs": [
    {
     "name": "stderr",
     "output_type": "stream",
     "text": [
      "<ipython-input-47-21b8d7f24afe>:1: DeprecationWarning: find_elements_by_* commands are deprecated. Please use find_elements() instead\n",
      "  title_tag = driver.find_elements_by_xpath(\"//a[@class='title fw500 ellipsis']\")\n"
     ]
    },
    {
     "data": {
      "text/plain": [
       "[<selenium.webdriver.remote.webelement.WebElement (session=\"a14397a5aadeb1fa6f05bce62f4991d2\", element=\"c07d60d3-42f0-4e2a-91b5-2512e72b0f5e\")>,\n",
       " <selenium.webdriver.remote.webelement.WebElement (session=\"a14397a5aadeb1fa6f05bce62f4991d2\", element=\"c6679648-7525-49c6-8ff0-7899a9250fa1\")>,\n",
       " <selenium.webdriver.remote.webelement.WebElement (session=\"a14397a5aadeb1fa6f05bce62f4991d2\", element=\"8dbb4207-486a-4016-b97a-6cdad4e05c4e\")>,\n",
       " <selenium.webdriver.remote.webelement.WebElement (session=\"a14397a5aadeb1fa6f05bce62f4991d2\", element=\"0021fdbe-8c81-4f81-aa5d-7cac79546984\")>,\n",
       " <selenium.webdriver.remote.webelement.WebElement (session=\"a14397a5aadeb1fa6f05bce62f4991d2\", element=\"0b98cd48-d144-4995-9747-41b57bfef8e7\")>,\n",
       " <selenium.webdriver.remote.webelement.WebElement (session=\"a14397a5aadeb1fa6f05bce62f4991d2\", element=\"f5ff8dd0-9c0c-4f89-9a10-f0bf45a54543\")>,\n",
       " <selenium.webdriver.remote.webelement.WebElement (session=\"a14397a5aadeb1fa6f05bce62f4991d2\", element=\"5e0fe02f-602e-4569-8545-6ca976db4726\")>,\n",
       " <selenium.webdriver.remote.webelement.WebElement (session=\"a14397a5aadeb1fa6f05bce62f4991d2\", element=\"64433da8-8c4f-45c3-a736-c029bfa15132\")>,\n",
       " <selenium.webdriver.remote.webelement.WebElement (session=\"a14397a5aadeb1fa6f05bce62f4991d2\", element=\"2e64d3fa-5520-4488-8bde-93d69b27bb2c\")>,\n",
       " <selenium.webdriver.remote.webelement.WebElement (session=\"a14397a5aadeb1fa6f05bce62f4991d2\", element=\"dfb4ad44-0ffd-4720-9fb6-76aa39aa6321\")>]"
      ]
     },
     "execution_count": 47,
     "metadata": {},
     "output_type": "execute_result"
    }
   ],
   "source": [
    "title_tag = driver.find_elements_by_xpath(\"//a[@class='title fw500 ellipsis']\")\n",
    "title_tag[0:10]"
   ]
  },
  {
   "cell_type": "code",
   "execution_count": 48,
   "id": "2be3e0ea",
   "metadata": {},
   "outputs": [
    {
     "name": "stdout",
     "output_type": "stream",
     "text": [
      "Below are the top 10 job data's job title: \n",
      " ['Data Scientist', 'Hiring For Data Scientist', 'Project Manager | Team Leader | Senior Data Scientist', 'Data Scientist', 'NTT DATA_ Hiring For BIG DATA ,DATA Scientist, Devops', 'Hiring For Data Analyst / Data Scientist', 'Data Scientist', 'Data Scientist', 'Data Scientist', 'Data Scientist/ Senior Data Scientist']\n"
     ]
    }
   ],
   "source": [
    "for i in title_tag:\n",
    "    title = i.text\n",
    "    job_title.append(title)\n",
    "job_title = job_title[0:10]\n",
    "\n",
    "print(\"Below are the top 10 job data's job title: \\n\", job_title)"
   ]
  },
  {
   "cell_type": "code",
   "execution_count": 49,
   "id": "1cf92e86",
   "metadata": {},
   "outputs": [
    {
     "name": "stderr",
     "output_type": "stream",
     "text": [
      "<ipython-input-49-fc55430f8cc0>:1: DeprecationWarning: find_elements_by_* commands are deprecated. Please use find_elements() instead\n",
      "  location_tag = driver.find_elements_by_xpath(\"//li[@class='fleft grey-text br2 placeHolderLi location']\")\n"
     ]
    },
    {
     "data": {
      "text/plain": [
       "[<selenium.webdriver.remote.webelement.WebElement (session=\"a14397a5aadeb1fa6f05bce62f4991d2\", element=\"52c97dd9-69b8-4382-b5ec-445b3f3672e4\")>,\n",
       " <selenium.webdriver.remote.webelement.WebElement (session=\"a14397a5aadeb1fa6f05bce62f4991d2\", element=\"ac2ca57d-43fd-4886-9158-9a9e9afa709d\")>,\n",
       " <selenium.webdriver.remote.webelement.WebElement (session=\"a14397a5aadeb1fa6f05bce62f4991d2\", element=\"d371bdb3-0149-4786-9a8d-671ea968e33b\")>,\n",
       " <selenium.webdriver.remote.webelement.WebElement (session=\"a14397a5aadeb1fa6f05bce62f4991d2\", element=\"03f91e76-32ac-4bfc-8cac-8d02b36463f6\")>,\n",
       " <selenium.webdriver.remote.webelement.WebElement (session=\"a14397a5aadeb1fa6f05bce62f4991d2\", element=\"0e02d5c1-055d-4a33-bd67-c3d9c5e8627f\")>,\n",
       " <selenium.webdriver.remote.webelement.WebElement (session=\"a14397a5aadeb1fa6f05bce62f4991d2\", element=\"ed4d7867-cb5f-438f-8e82-37c944ec22dd\")>,\n",
       " <selenium.webdriver.remote.webelement.WebElement (session=\"a14397a5aadeb1fa6f05bce62f4991d2\", element=\"fe4242c7-0ff4-400b-81fa-ffbf2012ceb5\")>,\n",
       " <selenium.webdriver.remote.webelement.WebElement (session=\"a14397a5aadeb1fa6f05bce62f4991d2\", element=\"b0cd6b0d-2986-49e7-9ed5-bef0ed695f82\")>,\n",
       " <selenium.webdriver.remote.webelement.WebElement (session=\"a14397a5aadeb1fa6f05bce62f4991d2\", element=\"aa845ed8-7800-4aa6-9189-b59ca580590e\")>,\n",
       " <selenium.webdriver.remote.webelement.WebElement (session=\"a14397a5aadeb1fa6f05bce62f4991d2\", element=\"eee1cbb4-0610-4f99-b4a2-8675aa49bba5\")>]"
      ]
     },
     "execution_count": 49,
     "metadata": {},
     "output_type": "execute_result"
    }
   ],
   "source": [
    "location_tag = driver.find_elements_by_xpath(\"//li[@class='fleft grey-text br2 placeHolderLi location']\")\n",
    "location_tag[0:10]"
   ]
  },
  {
   "cell_type": "code",
   "execution_count": 50,
   "id": "acb4262d",
   "metadata": {},
   "outputs": [
    {
     "name": "stdout",
     "output_type": "stream",
     "text": [
      "Below are the top 10 job data's company location \n",
      " ['Noida, New Delhi, Faridabad, Gurgaon/Gurugram, Delhi / NCR', 'Hyderabad/Secunderabad, Pune, Chennai, Bangalore/Bengaluru, Delhi / NCR, Mumbai (All Areas)\\n(WFH during Covid)', 'Remote', 'Noida, Nodia\\n(WFH during Covid)', 'Noida, Kolkata, Hyderabad/Secunderabad, Ahmedabad, Chennai, Coimbatore, Bangalore/Bengaluru, Delhi / NCR, Mumbai (All Areas)\\n(WFH during Covid)', 'Noida(Sector-59 Noida)', 'Bharuch, Jaipur, Bhopal, Mumbai, Jhansi, Nagpur, Ghaziabad, Jaunpur, Kanpur, Delhi, Lucknow, Agra, Gurgaon, Rajkot, Bengaluru', 'Gurgaon/Gurugram', 'Gurgaon/Gurugram', 'Noida']\n"
     ]
    }
   ],
   "source": [
    "for i in location_tag:\n",
    "    location = i.text\n",
    "    job_location.append(location)\n",
    "job_location = job_location[0:10]\n",
    "print(\"Below are the top 10 job data's company location \\n\", job_location)"
   ]
  },
  {
   "cell_type": "code",
   "execution_count": 51,
   "id": "77b8bd09",
   "metadata": {},
   "outputs": [
    {
     "name": "stderr",
     "output_type": "stream",
     "text": [
      "<ipython-input-51-8fc9ac97e45f>:1: DeprecationWarning: find_elements_by_* commands are deprecated. Please use find_elements() instead\n",
      "  company_tag = driver.find_elements_by_xpath(\"//a[@class='subTitle ellipsis fleft']\")\n"
     ]
    },
    {
     "data": {
      "text/plain": [
       "[<selenium.webdriver.remote.webelement.WebElement (session=\"a14397a5aadeb1fa6f05bce62f4991d2\", element=\"507ec7a4-346c-4603-ac56-ca38ad35d25b\")>,\n",
       " <selenium.webdriver.remote.webelement.WebElement (session=\"a14397a5aadeb1fa6f05bce62f4991d2\", element=\"717621d5-8bda-49a6-84cf-c194b17b5b3a\")>,\n",
       " <selenium.webdriver.remote.webelement.WebElement (session=\"a14397a5aadeb1fa6f05bce62f4991d2\", element=\"66429a0d-cfaa-49e4-876b-89e2570189c3\")>,\n",
       " <selenium.webdriver.remote.webelement.WebElement (session=\"a14397a5aadeb1fa6f05bce62f4991d2\", element=\"8db3e3fa-b8f2-4891-b306-99417706b162\")>,\n",
       " <selenium.webdriver.remote.webelement.WebElement (session=\"a14397a5aadeb1fa6f05bce62f4991d2\", element=\"4c6bbd29-d429-4089-86de-ef0abaf469a3\")>,\n",
       " <selenium.webdriver.remote.webelement.WebElement (session=\"a14397a5aadeb1fa6f05bce62f4991d2\", element=\"cc28fb3b-2e2b-4136-94d7-0d384b79e189\")>,\n",
       " <selenium.webdriver.remote.webelement.WebElement (session=\"a14397a5aadeb1fa6f05bce62f4991d2\", element=\"3b996d21-3e83-453f-bb7d-66f676d0400b\")>,\n",
       " <selenium.webdriver.remote.webelement.WebElement (session=\"a14397a5aadeb1fa6f05bce62f4991d2\", element=\"bf5cf594-a52f-4763-afd6-d82f53e53103\")>,\n",
       " <selenium.webdriver.remote.webelement.WebElement (session=\"a14397a5aadeb1fa6f05bce62f4991d2\", element=\"e1206f48-2f0a-4fca-b051-11f7ed42eee0\")>,\n",
       " <selenium.webdriver.remote.webelement.WebElement (session=\"a14397a5aadeb1fa6f05bce62f4991d2\", element=\"216d61e7-2c4c-4d95-a444-0a79e995dcd6\")>]"
      ]
     },
     "execution_count": 51,
     "metadata": {},
     "output_type": "execute_result"
    }
   ],
   "source": [
    "company_tag = driver.find_elements_by_xpath(\"//a[@class='subTitle ellipsis fleft']\")\n",
    "company_tag[0:10]"
   ]
  },
  {
   "cell_type": "code",
   "execution_count": 52,
   "id": "44aad59e",
   "metadata": {},
   "outputs": [
    {
     "name": "stdout",
     "output_type": "stream",
     "text": [
      "Below are the top 10 job data's : \n",
      " ['LG Electronics India Pvt. Ltd.', 'Tata Consultancy Services Ltd.', 'Tidyquant (OPC) Private Limited', 'Navikenz India Pvt Ltd', 'NTT Data Business Solutions Pvt Ltd', 'Careerera', 'Country Veggie', 'Whizhack Technologies pvt ltd', 'One Mobikwik Systems Private Limited', 'Newgen Software Technologies']\n"
     ]
    }
   ],
   "source": [
    "for i in company_tag:\n",
    "    company = i.text\n",
    "    company_name.append(company)\n",
    "company_name = company_name[0:10]\n",
    "print(\"Below are the top 10 job data's : \\n\", company_name)"
   ]
  },
  {
   "cell_type": "code",
   "execution_count": 53,
   "id": "b2d28e3d",
   "metadata": {},
   "outputs": [
    {
     "name": "stderr",
     "output_type": "stream",
     "text": [
      "<ipython-input-53-bb72a43f1c3a>:1: DeprecationWarning: find_elements_by_* commands are deprecated. Please use find_elements() instead\n",
      "  exp_tag = driver.find_elements_by_xpath(\"//li[@class='fleft grey-text br2 placeHolderLi experience']\")\n"
     ]
    },
    {
     "data": {
      "text/plain": [
       "[<selenium.webdriver.remote.webelement.WebElement (session=\"a14397a5aadeb1fa6f05bce62f4991d2\", element=\"545294a8-fc4b-4ec5-8efc-3a83d9648b4f\")>,\n",
       " <selenium.webdriver.remote.webelement.WebElement (session=\"a14397a5aadeb1fa6f05bce62f4991d2\", element=\"3e8206af-c0ad-4683-9a1f-073e1410cdf0\")>,\n",
       " <selenium.webdriver.remote.webelement.WebElement (session=\"a14397a5aadeb1fa6f05bce62f4991d2\", element=\"819ec950-0205-4cd8-8e84-54f658ee1e5e\")>,\n",
       " <selenium.webdriver.remote.webelement.WebElement (session=\"a14397a5aadeb1fa6f05bce62f4991d2\", element=\"8875600c-d57a-466d-9218-c8f744e6da1a\")>,\n",
       " <selenium.webdriver.remote.webelement.WebElement (session=\"a14397a5aadeb1fa6f05bce62f4991d2\", element=\"58647f9d-0caa-48bb-aec6-9ff7dfa5c738\")>,\n",
       " <selenium.webdriver.remote.webelement.WebElement (session=\"a14397a5aadeb1fa6f05bce62f4991d2\", element=\"77d04ebb-b785-4e62-a060-4a11711f364d\")>,\n",
       " <selenium.webdriver.remote.webelement.WebElement (session=\"a14397a5aadeb1fa6f05bce62f4991d2\", element=\"12d968b6-8f01-43f3-b8f3-77dd60b8c2cf\")>,\n",
       " <selenium.webdriver.remote.webelement.WebElement (session=\"a14397a5aadeb1fa6f05bce62f4991d2\", element=\"53158c5c-2845-4bca-8a5b-d0a8ea9aa584\")>,\n",
       " <selenium.webdriver.remote.webelement.WebElement (session=\"a14397a5aadeb1fa6f05bce62f4991d2\", element=\"b7d05487-b1f8-44a1-a72c-721a6ca56de7\")>,\n",
       " <selenium.webdriver.remote.webelement.WebElement (session=\"a14397a5aadeb1fa6f05bce62f4991d2\", element=\"e545b38e-af20-4206-9da7-6bd8798817fb\")>]"
      ]
     },
     "execution_count": 53,
     "metadata": {},
     "output_type": "execute_result"
    }
   ],
   "source": [
    "exp_tag = driver.find_elements_by_xpath(\"//li[@class='fleft grey-text br2 placeHolderLi experience']\")\n",
    "exp_tag[0:10]"
   ]
  },
  {
   "cell_type": "code",
   "execution_count": 54,
   "id": "f76f7b0a",
   "metadata": {},
   "outputs": [
    {
     "name": "stdout",
     "output_type": "stream",
     "text": [
      "Below are the top 10 job data's job title: \n",
      " ['0-2 ', '4-9 ', '1-5 ', '2-7 ', '3-8 ', '1-3 ', '1-3 ', '2-5 ', '2-5 ', '2-5 ']\n"
     ]
    }
   ],
   "source": [
    "for i in exp_tag:\n",
    "    experience_required.append(i.text.replace(\"Yrs\",\"\"))\n",
    "experience_required= experience_required[0:10]\n",
    "print(\"Below are the top 10 job data's job title: \\n\", experience_required)"
   ]
  },
  {
   "cell_type": "code",
   "execution_count": 55,
   "id": "bd32520f",
   "metadata": {},
   "outputs": [
    {
     "data": {
      "text/html": [
       "<div>\n",
       "<style scoped>\n",
       "    .dataframe tbody tr th:only-of-type {\n",
       "        vertical-align: middle;\n",
       "    }\n",
       "\n",
       "    .dataframe tbody tr th {\n",
       "        vertical-align: top;\n",
       "    }\n",
       "\n",
       "    .dataframe thead th {\n",
       "        text-align: right;\n",
       "    }\n",
       "</style>\n",
       "<table border=\"1\" class=\"dataframe\">\n",
       "  <thead>\n",
       "    <tr style=\"text-align: right;\">\n",
       "      <th></th>\n",
       "      <th>Title</th>\n",
       "      <th>Location</th>\n",
       "      <th>Company_Name</th>\n",
       "      <th>Experience</th>\n",
       "    </tr>\n",
       "  </thead>\n",
       "  <tbody>\n",
       "    <tr>\n",
       "      <th>0</th>\n",
       "      <td>Data Scientist</td>\n",
       "      <td>Noida, New Delhi, Faridabad, Gurgaon/Gurugram,...</td>\n",
       "      <td>LG Electronics India Pvt. Ltd.</td>\n",
       "      <td>0-2</td>\n",
       "    </tr>\n",
       "    <tr>\n",
       "      <th>1</th>\n",
       "      <td>Hiring For Data Scientist</td>\n",
       "      <td>Hyderabad/Secunderabad, Pune, Chennai, Bangalo...</td>\n",
       "      <td>Tata Consultancy Services Ltd.</td>\n",
       "      <td>4-9</td>\n",
       "    </tr>\n",
       "    <tr>\n",
       "      <th>2</th>\n",
       "      <td>Project Manager | Team Leader | Senior Data Sc...</td>\n",
       "      <td>Remote</td>\n",
       "      <td>Tidyquant (OPC) Private Limited</td>\n",
       "      <td>1-5</td>\n",
       "    </tr>\n",
       "    <tr>\n",
       "      <th>3</th>\n",
       "      <td>Data Scientist</td>\n",
       "      <td>Noida, Nodia\\n(WFH during Covid)</td>\n",
       "      <td>Navikenz India Pvt Ltd</td>\n",
       "      <td>2-7</td>\n",
       "    </tr>\n",
       "    <tr>\n",
       "      <th>4</th>\n",
       "      <td>NTT DATA_ Hiring For BIG DATA ,DATA Scientist,...</td>\n",
       "      <td>Noida, Kolkata, Hyderabad/Secunderabad, Ahmeda...</td>\n",
       "      <td>NTT Data Business Solutions Pvt Ltd</td>\n",
       "      <td>3-8</td>\n",
       "    </tr>\n",
       "    <tr>\n",
       "      <th>5</th>\n",
       "      <td>Hiring For Data Analyst / Data Scientist</td>\n",
       "      <td>Noida(Sector-59 Noida)</td>\n",
       "      <td>Careerera</td>\n",
       "      <td>1-3</td>\n",
       "    </tr>\n",
       "    <tr>\n",
       "      <th>6</th>\n",
       "      <td>Data Scientist</td>\n",
       "      <td>Bharuch, Jaipur, Bhopal, Mumbai, Jhansi, Nagpu...</td>\n",
       "      <td>Country Veggie</td>\n",
       "      <td>1-3</td>\n",
       "    </tr>\n",
       "    <tr>\n",
       "      <th>7</th>\n",
       "      <td>Data Scientist</td>\n",
       "      <td>Gurgaon/Gurugram</td>\n",
       "      <td>Whizhack Technologies pvt ltd</td>\n",
       "      <td>2-5</td>\n",
       "    </tr>\n",
       "    <tr>\n",
       "      <th>8</th>\n",
       "      <td>Data Scientist</td>\n",
       "      <td>Gurgaon/Gurugram</td>\n",
       "      <td>One Mobikwik Systems Private Limited</td>\n",
       "      <td>2-5</td>\n",
       "    </tr>\n",
       "    <tr>\n",
       "      <th>9</th>\n",
       "      <td>Data Scientist/ Senior Data Scientist</td>\n",
       "      <td>Noida</td>\n",
       "      <td>Newgen Software Technologies</td>\n",
       "      <td>2-5</td>\n",
       "    </tr>\n",
       "  </tbody>\n",
       "</table>\n",
       "</div>"
      ],
      "text/plain": [
       "                                               Title  \\\n",
       "0                                     Data Scientist   \n",
       "1                          Hiring For Data Scientist   \n",
       "2  Project Manager | Team Leader | Senior Data Sc...   \n",
       "3                                     Data Scientist   \n",
       "4  NTT DATA_ Hiring For BIG DATA ,DATA Scientist,...   \n",
       "5           Hiring For Data Analyst / Data Scientist   \n",
       "6                                     Data Scientist   \n",
       "7                                     Data Scientist   \n",
       "8                                     Data Scientist   \n",
       "9              Data Scientist/ Senior Data Scientist   \n",
       "\n",
       "                                            Location  \\\n",
       "0  Noida, New Delhi, Faridabad, Gurgaon/Gurugram,...   \n",
       "1  Hyderabad/Secunderabad, Pune, Chennai, Bangalo...   \n",
       "2                                             Remote   \n",
       "3                   Noida, Nodia\\n(WFH during Covid)   \n",
       "4  Noida, Kolkata, Hyderabad/Secunderabad, Ahmeda...   \n",
       "5                             Noida(Sector-59 Noida)   \n",
       "6  Bharuch, Jaipur, Bhopal, Mumbai, Jhansi, Nagpu...   \n",
       "7                                   Gurgaon/Gurugram   \n",
       "8                                   Gurgaon/Gurugram   \n",
       "9                                              Noida   \n",
       "\n",
       "                           Company_Name Experience  \n",
       "0        LG Electronics India Pvt. Ltd.       0-2   \n",
       "1        Tata Consultancy Services Ltd.       4-9   \n",
       "2       Tidyquant (OPC) Private Limited       1-5   \n",
       "3                Navikenz India Pvt Ltd       2-7   \n",
       "4   NTT Data Business Solutions Pvt Ltd       3-8   \n",
       "5                             Careerera       1-3   \n",
       "6                        Country Veggie       1-3   \n",
       "7         Whizhack Technologies pvt ltd       2-5   \n",
       "8  One Mobikwik Systems Private Limited       2-5   \n",
       "9          Newgen Software Technologies       2-5   "
      ]
     },
     "execution_count": 55,
     "metadata": {},
     "output_type": "execute_result"
    }
   ],
   "source": [
    "naukri_filter = pd.DataFrame({'Title':job_title, \n",
    "                       'Location': job_location,\n",
    "                       'Company_Name':company_name, \n",
    "                       'Experience':experience_required,                        \n",
    "                       })\n",
    "naukri_filter"
   ]
  },
  {
   "cell_type": "markdown",
   "id": "21ddb255",
   "metadata": {},
   "source": [
    "# Q4: Scrape data of first 100 sunglasses listings on flipkart.com. You have to scrape four attributes:"
   ]
  },
  {
   "cell_type": "code",
   "execution_count": 57,
   "id": "495a7f1b",
   "metadata": {},
   "outputs": [],
   "source": [
    "driver.get(\"https://www.flipkart.com/\")"
   ]
  },
  {
   "cell_type": "code",
   "execution_count": 58,
   "id": "661dab6e",
   "metadata": {},
   "outputs": [
    {
     "name": "stderr",
     "output_type": "stream",
     "text": [
      "<ipython-input-58-adab00355ba4>:2: DeprecationWarning: find_element_by_* commands are deprecated. Please use find_element() instead\n",
      "  search_product = driver.find_element_by_xpath(\"//div[@class='_3OO5Xc']/input\")\n",
      "<ipython-input-58-adab00355ba4>:6: DeprecationWarning: find_element_by_* commands are deprecated. Please use find_element() instead\n",
      "  search_btn = driver.find_element_by_xpath(\"//button[@class='L0Z3Pu']\")\n"
     ]
    },
    {
     "ename": "ElementClickInterceptedException",
     "evalue": "Message: element click intercepted: Element <button class=\"L0Z3Pu\" type=\"submit\">...</button> is not clickable at point (556, 28). Other element would receive the click: <div class=\"_2hriZF _2rbIyg\" tabindex=\"-1\">...</div>\n  (Session info: chrome=96.0.4664.93)\nStacktrace:\nBacktrace:\n\tOrdinal0 [0x00C96903+2517251]\n\tOrdinal0 [0x00C2F8E1+2095329]\n\tOrdinal0 [0x00B32848+1058888]\n\tOrdinal0 [0x00B63509+1258761]\n\tOrdinal0 [0x00B61868+1251432]\n\tOrdinal0 [0x00B5F65D+1242717]\n\tOrdinal0 [0x00B5E4A8+1238184]\n\tOrdinal0 [0x00B54037+1196087]\n\tOrdinal0 [0x00B764D3+1336531]\n\tOrdinal0 [0x00B53A36+1194550]\n\tOrdinal0 [0x00B765BA+1336762]\n\tOrdinal0 [0x00B85BBF+1399743]\n\tOrdinal0 [0x00B7639B+1336219]\n\tOrdinal0 [0x00B527A7+1189799]\n\tOrdinal0 [0x00B53609+1193481]\n\tGetHandleVerifier [0x00E25904+1577972]\n\tGetHandleVerifier [0x00ED0B97+2279047]\n\tGetHandleVerifier [0x00D26D09+534521]\n\tGetHandleVerifier [0x00D25DB9+530601]\n\tOrdinal0 [0x00C34FF9+2117625]\n\tOrdinal0 [0x00C398A8+2136232]\n\tOrdinal0 [0x00C399E2+2136546]\n\tOrdinal0 [0x00C43541+2176321]\n\tBaseThreadInitThunk [0x760D5749+25]\n\tRtlGetAppContainerNamedObjectPath [0x76F6F7B0+288]\n\tRtlGetAppContainerNamedObjectPath [0x76F6F77E+238]\n",
     "output_type": "error",
     "traceback": [
      "\u001b[1;31m---------------------------------------------------------------------------\u001b[0m",
      "\u001b[1;31mElementClickInterceptedException\u001b[0m          Traceback (most recent call last)",
      "\u001b[1;32m<ipython-input-58-adab00355ba4>\u001b[0m in \u001b[0;36m<module>\u001b[1;34m\u001b[0m\n\u001b[0;32m      5\u001b[0m \u001b[1;31m# click the search button\u001b[0m\u001b[1;33m\u001b[0m\u001b[1;33m\u001b[0m\u001b[1;33m\u001b[0m\u001b[0m\n\u001b[0;32m      6\u001b[0m \u001b[0msearch_btn\u001b[0m \u001b[1;33m=\u001b[0m \u001b[0mdriver\u001b[0m\u001b[1;33m.\u001b[0m\u001b[0mfind_element_by_xpath\u001b[0m\u001b[1;33m(\u001b[0m\u001b[1;34m\"//button[@class='L0Z3Pu']\"\u001b[0m\u001b[1;33m)\u001b[0m\u001b[1;33m\u001b[0m\u001b[1;33m\u001b[0m\u001b[0m\n\u001b[1;32m----> 7\u001b[1;33m \u001b[0msearch_btn\u001b[0m\u001b[1;33m.\u001b[0m\u001b[0mclick\u001b[0m\u001b[1;33m(\u001b[0m\u001b[1;33m)\u001b[0m\u001b[1;33m\u001b[0m\u001b[1;33m\u001b[0m\u001b[0m\n\u001b[0m",
      "\u001b[1;32m~\\anaconda3\\lib\\site-packages\\selenium\\webdriver\\remote\\webelement.py\u001b[0m in \u001b[0;36mclick\u001b[1;34m(self)\u001b[0m\n\u001b[0;32m     79\u001b[0m     \u001b[1;32mdef\u001b[0m \u001b[0mclick\u001b[0m\u001b[1;33m(\u001b[0m\u001b[0mself\u001b[0m\u001b[1;33m)\u001b[0m \u001b[1;33m->\u001b[0m \u001b[1;32mNone\u001b[0m\u001b[1;33m:\u001b[0m\u001b[1;33m\u001b[0m\u001b[1;33m\u001b[0m\u001b[0m\n\u001b[0;32m     80\u001b[0m         \u001b[1;34m\"\"\"Clicks the element.\"\"\"\u001b[0m\u001b[1;33m\u001b[0m\u001b[1;33m\u001b[0m\u001b[0m\n\u001b[1;32m---> 81\u001b[1;33m         \u001b[0mself\u001b[0m\u001b[1;33m.\u001b[0m\u001b[0m_execute\u001b[0m\u001b[1;33m(\u001b[0m\u001b[0mCommand\u001b[0m\u001b[1;33m.\u001b[0m\u001b[0mCLICK_ELEMENT\u001b[0m\u001b[1;33m)\u001b[0m\u001b[1;33m\u001b[0m\u001b[1;33m\u001b[0m\u001b[0m\n\u001b[0m\u001b[0;32m     82\u001b[0m \u001b[1;33m\u001b[0m\u001b[0m\n\u001b[0;32m     83\u001b[0m     \u001b[1;32mdef\u001b[0m \u001b[0msubmit\u001b[0m\u001b[1;33m(\u001b[0m\u001b[0mself\u001b[0m\u001b[1;33m)\u001b[0m\u001b[1;33m:\u001b[0m\u001b[1;33m\u001b[0m\u001b[1;33m\u001b[0m\u001b[0m\n",
      "\u001b[1;32m~\\anaconda3\\lib\\site-packages\\selenium\\webdriver\\remote\\webelement.py\u001b[0m in \u001b[0;36m_execute\u001b[1;34m(self, command, params)\u001b[0m\n\u001b[0;32m    708\u001b[0m             \u001b[0mparams\u001b[0m \u001b[1;33m=\u001b[0m \u001b[1;33m{\u001b[0m\u001b[1;33m}\u001b[0m\u001b[1;33m\u001b[0m\u001b[1;33m\u001b[0m\u001b[0m\n\u001b[0;32m    709\u001b[0m         \u001b[0mparams\u001b[0m\u001b[1;33m[\u001b[0m\u001b[1;34m'id'\u001b[0m\u001b[1;33m]\u001b[0m \u001b[1;33m=\u001b[0m \u001b[0mself\u001b[0m\u001b[1;33m.\u001b[0m\u001b[0m_id\u001b[0m\u001b[1;33m\u001b[0m\u001b[1;33m\u001b[0m\u001b[0m\n\u001b[1;32m--> 710\u001b[1;33m         \u001b[1;32mreturn\u001b[0m \u001b[0mself\u001b[0m\u001b[1;33m.\u001b[0m\u001b[0m_parent\u001b[0m\u001b[1;33m.\u001b[0m\u001b[0mexecute\u001b[0m\u001b[1;33m(\u001b[0m\u001b[0mcommand\u001b[0m\u001b[1;33m,\u001b[0m \u001b[0mparams\u001b[0m\u001b[1;33m)\u001b[0m\u001b[1;33m\u001b[0m\u001b[1;33m\u001b[0m\u001b[0m\n\u001b[0m\u001b[0;32m    711\u001b[0m \u001b[1;33m\u001b[0m\u001b[0m\n\u001b[0;32m    712\u001b[0m     \u001b[1;32mdef\u001b[0m \u001b[0mfind_element\u001b[0m\u001b[1;33m(\u001b[0m\u001b[0mself\u001b[0m\u001b[1;33m,\u001b[0m \u001b[0mby\u001b[0m\u001b[1;33m=\u001b[0m\u001b[0mBy\u001b[0m\u001b[1;33m.\u001b[0m\u001b[0mID\u001b[0m\u001b[1;33m,\u001b[0m \u001b[0mvalue\u001b[0m\u001b[1;33m=\u001b[0m\u001b[1;32mNone\u001b[0m\u001b[1;33m)\u001b[0m\u001b[1;33m:\u001b[0m\u001b[1;33m\u001b[0m\u001b[1;33m\u001b[0m\u001b[0m\n",
      "\u001b[1;32m~\\anaconda3\\lib\\site-packages\\selenium\\webdriver\\remote\\webdriver.py\u001b[0m in \u001b[0;36mexecute\u001b[1;34m(self, driver_command, params)\u001b[0m\n\u001b[0;32m    422\u001b[0m         \u001b[0mresponse\u001b[0m \u001b[1;33m=\u001b[0m \u001b[0mself\u001b[0m\u001b[1;33m.\u001b[0m\u001b[0mcommand_executor\u001b[0m\u001b[1;33m.\u001b[0m\u001b[0mexecute\u001b[0m\u001b[1;33m(\u001b[0m\u001b[0mdriver_command\u001b[0m\u001b[1;33m,\u001b[0m \u001b[0mparams\u001b[0m\u001b[1;33m)\u001b[0m\u001b[1;33m\u001b[0m\u001b[1;33m\u001b[0m\u001b[0m\n\u001b[0;32m    423\u001b[0m         \u001b[1;32mif\u001b[0m \u001b[0mresponse\u001b[0m\u001b[1;33m:\u001b[0m\u001b[1;33m\u001b[0m\u001b[1;33m\u001b[0m\u001b[0m\n\u001b[1;32m--> 424\u001b[1;33m             \u001b[0mself\u001b[0m\u001b[1;33m.\u001b[0m\u001b[0merror_handler\u001b[0m\u001b[1;33m.\u001b[0m\u001b[0mcheck_response\u001b[0m\u001b[1;33m(\u001b[0m\u001b[0mresponse\u001b[0m\u001b[1;33m)\u001b[0m\u001b[1;33m\u001b[0m\u001b[1;33m\u001b[0m\u001b[0m\n\u001b[0m\u001b[0;32m    425\u001b[0m             response['value'] = self._unwrap_value(\n\u001b[0;32m    426\u001b[0m                 response.get('value', None))\n",
      "\u001b[1;32m~\\anaconda3\\lib\\site-packages\\selenium\\webdriver\\remote\\errorhandler.py\u001b[0m in \u001b[0;36mcheck_response\u001b[1;34m(self, response)\u001b[0m\n\u001b[0;32m    245\u001b[0m                 \u001b[0malert_text\u001b[0m \u001b[1;33m=\u001b[0m \u001b[0mvalue\u001b[0m\u001b[1;33m[\u001b[0m\u001b[1;34m'alert'\u001b[0m\u001b[1;33m]\u001b[0m\u001b[1;33m.\u001b[0m\u001b[0mget\u001b[0m\u001b[1;33m(\u001b[0m\u001b[1;34m'text'\u001b[0m\u001b[1;33m)\u001b[0m\u001b[1;33m\u001b[0m\u001b[1;33m\u001b[0m\u001b[0m\n\u001b[0;32m    246\u001b[0m             \u001b[1;32mraise\u001b[0m \u001b[0mexception_class\u001b[0m\u001b[1;33m(\u001b[0m\u001b[0mmessage\u001b[0m\u001b[1;33m,\u001b[0m \u001b[0mscreen\u001b[0m\u001b[1;33m,\u001b[0m \u001b[0mstacktrace\u001b[0m\u001b[1;33m,\u001b[0m \u001b[0malert_text\u001b[0m\u001b[1;33m)\u001b[0m  \u001b[1;31m# type: ignore[call-arg]  # mypy is not smart enough here\u001b[0m\u001b[1;33m\u001b[0m\u001b[1;33m\u001b[0m\u001b[0m\n\u001b[1;32m--> 247\u001b[1;33m         \u001b[1;32mraise\u001b[0m \u001b[0mexception_class\u001b[0m\u001b[1;33m(\u001b[0m\u001b[0mmessage\u001b[0m\u001b[1;33m,\u001b[0m \u001b[0mscreen\u001b[0m\u001b[1;33m,\u001b[0m \u001b[0mstacktrace\u001b[0m\u001b[1;33m)\u001b[0m\u001b[1;33m\u001b[0m\u001b[1;33m\u001b[0m\u001b[0m\n\u001b[0m\u001b[0;32m    248\u001b[0m \u001b[1;33m\u001b[0m\u001b[0m\n\u001b[0;32m    249\u001b[0m     \u001b[1;32mdef\u001b[0m \u001b[0m_value_or_default\u001b[0m\u001b[1;33m(\u001b[0m\u001b[0mself\u001b[0m\u001b[1;33m,\u001b[0m \u001b[0mobj\u001b[0m\u001b[1;33m:\u001b[0m \u001b[0mMapping\u001b[0m\u001b[1;33m[\u001b[0m\u001b[0m_KT\u001b[0m\u001b[1;33m,\u001b[0m \u001b[0m_VT\u001b[0m\u001b[1;33m]\u001b[0m\u001b[1;33m,\u001b[0m \u001b[0mkey\u001b[0m\u001b[1;33m:\u001b[0m \u001b[0m_KT\u001b[0m\u001b[1;33m,\u001b[0m \u001b[0mdefault\u001b[0m\u001b[1;33m:\u001b[0m \u001b[0m_VT\u001b[0m\u001b[1;33m)\u001b[0m \u001b[1;33m->\u001b[0m \u001b[0m_VT\u001b[0m\u001b[1;33m:\u001b[0m\u001b[1;33m\u001b[0m\u001b[1;33m\u001b[0m\u001b[0m\n",
      "\u001b[1;31mElementClickInterceptedException\u001b[0m: Message: element click intercepted: Element <button class=\"L0Z3Pu\" type=\"submit\">...</button> is not clickable at point (556, 28). Other element would receive the click: <div class=\"_2hriZF _2rbIyg\" tabindex=\"-1\">...</div>\n  (Session info: chrome=96.0.4664.93)\nStacktrace:\nBacktrace:\n\tOrdinal0 [0x00C96903+2517251]\n\tOrdinal0 [0x00C2F8E1+2095329]\n\tOrdinal0 [0x00B32848+1058888]\n\tOrdinal0 [0x00B63509+1258761]\n\tOrdinal0 [0x00B61868+1251432]\n\tOrdinal0 [0x00B5F65D+1242717]\n\tOrdinal0 [0x00B5E4A8+1238184]\n\tOrdinal0 [0x00B54037+1196087]\n\tOrdinal0 [0x00B764D3+1336531]\n\tOrdinal0 [0x00B53A36+1194550]\n\tOrdinal0 [0x00B765BA+1336762]\n\tOrdinal0 [0x00B85BBF+1399743]\n\tOrdinal0 [0x00B7639B+1336219]\n\tOrdinal0 [0x00B527A7+1189799]\n\tOrdinal0 [0x00B53609+1193481]\n\tGetHandleVerifier [0x00E25904+1577972]\n\tGetHandleVerifier [0x00ED0B97+2279047]\n\tGetHandleVerifier [0x00D26D09+534521]\n\tGetHandleVerifier [0x00D25DB9+530601]\n\tOrdinal0 [0x00C34FF9+2117625]\n\tOrdinal0 [0x00C398A8+2136232]\n\tOrdinal0 [0x00C399E2+2136546]\n\tOrdinal0 [0x00C43541+2176321]\n\tBaseThreadInitThunk [0x760D5749+25]\n\tRtlGetAppContainerNamedObjectPath [0x76F6F7B0+288]\n\tRtlGetAppContainerNamedObjectPath [0x76F6F77E+238]\n"
     ]
    }
   ],
   "source": [
    "# enter “sunglasses” in “search for products, brands and more” field.\n",
    "search_product = driver.find_element_by_xpath(\"//div[@class='_3OO5Xc']/input\")\n",
    "search_product.send_keys(\"sunglasses\")\n",
    "\n",
    "# click the search button\n",
    "search_btn = driver.find_element_by_xpath(\"//button[@class='L0Z3Pu']\")\n",
    "search_btn.click()"
   ]
  },
  {
   "cell_type": "code",
   "execution_count": 59,
   "id": "6a46fb75",
   "metadata": {},
   "outputs": [],
   "source": [
    "# specifying the url of the webpage to be scraped\n",
    "url = \"https://www.flipkart.com/search?q=sunglasses&otracker=search&otracker1=search&marketplace=FLIPKART&as-show=on&as=off\"\n",
    "\n",
    "# open the webpage through our web driver\n",
    "driver.get(url)"
   ]
  },
  {
   "cell_type": "code",
   "execution_count": 60,
   "id": "4a1d8c8d",
   "metadata": {},
   "outputs": [
    {
     "name": "stderr",
     "output_type": "stream",
     "text": [
      "<ipython-input-60-3fe5a9364602>:3: DeprecationWarning: find_elements_by_* commands are deprecated. Please use find_elements() instead\n",
      "  url=driver.find_elements_by_xpath(\"//nav[@class='yFHi8N']//a\")\n"
     ]
    }
   ],
   "source": [
    "page_url=[]\n",
    "\n",
    "url=driver.find_elements_by_xpath(\"//nav[@class='yFHi8N']//a\")\n",
    "for i in url:\n",
    "    page_url.append(i.get_attribute('href'))\n",
    "page_url=page_url[0:3]"
   ]
  },
  {
   "cell_type": "code",
   "execution_count": 61,
   "id": "d6bcb83b",
   "metadata": {},
   "outputs": [
    {
     "name": "stderr",
     "output_type": "stream",
     "text": [
      "<ipython-input-61-a31273f731f8>:10: DeprecationWarning: find_elements_by_* commands are deprecated. Please use find_elements() instead\n",
      "  titles_brand=driver.find_elements_by_xpath(\"//div[@class='_2WkVRV']\")\n",
      "<ipython-input-61-a31273f731f8>:14: DeprecationWarning: find_elements_by_* commands are deprecated. Please use find_elements() instead\n",
      "  titles_Description=driver.find_elements_by_xpath(\"//a[@class='IRpwTa']\")\n",
      "<ipython-input-61-a31273f731f8>:18: DeprecationWarning: find_elements_by_* commands are deprecated. Please use find_elements() instead\n",
      "  titles_Price=driver.find_elements_by_xpath(\"//div[@class='_30jeq3']\")\n",
      "<ipython-input-61-a31273f731f8>:22: DeprecationWarning: find_elements_by_* commands are deprecated. Please use find_elements() instead\n",
      "  titles_Discount=driver.find_elements_by_xpath(\"//div[@class='_3Ay6Sb']/span\")\n"
     ]
    }
   ],
   "source": [
    "brand=[]\n",
    "Description=[]\n",
    "Price=[]\n",
    "Discount=[] \n",
    "\n",
    "# extracting all the tags\n",
    "\n",
    "for i in page_url:\n",
    "    driver.get(i)\n",
    "    titles_brand=driver.find_elements_by_xpath(\"//div[@class='_2WkVRV']\")\n",
    "    for i in titles_brand:\n",
    "        brand.append(i.text)\n",
    "        \n",
    "    titles_Description=driver.find_elements_by_xpath(\"//a[@class='IRpwTa']\")\n",
    "    for i in titles_Description:\n",
    "        Description.append(i.text)\n",
    "        \n",
    "    titles_Price=driver.find_elements_by_xpath(\"//div[@class='_30jeq3']\")\n",
    "    for i in titles_Price:\n",
    "        Price.append(i.text.replace(\"₹\",\"\"))\n",
    "        \n",
    "    titles_Discount=driver.find_elements_by_xpath(\"//div[@class='_3Ay6Sb']/span\")\n",
    "    for i in titles_Discount:\n",
    "        Discount.append(i.text.replace(\"% off\",\"\"))"
   ]
  },
  {
   "cell_type": "code",
   "execution_count": 62,
   "id": "bbcfcdc3",
   "metadata": {},
   "outputs": [
    {
     "name": "stdout",
     "output_type": "stream",
     "text": [
      "The data for the first 100 sunglasses listings on flipkart.com:\n",
      "\n"
     ]
    },
    {
     "data": {
      "text/html": [
       "<div>\n",
       "<style scoped>\n",
       "    .dataframe tbody tr th:only-of-type {\n",
       "        vertical-align: middle;\n",
       "    }\n",
       "\n",
       "    .dataframe tbody tr th {\n",
       "        vertical-align: top;\n",
       "    }\n",
       "\n",
       "    .dataframe thead th {\n",
       "        text-align: right;\n",
       "    }\n",
       "</style>\n",
       "<table border=\"1\" class=\"dataframe\">\n",
       "  <thead>\n",
       "    <tr style=\"text-align: right;\">\n",
       "      <th></th>\n",
       "      <th>Brand</th>\n",
       "      <th>Product Description</th>\n",
       "      <th>Price</th>\n",
       "      <th>Discount %</th>\n",
       "    </tr>\n",
       "  </thead>\n",
       "  <tbody>\n",
       "    <tr>\n",
       "      <th>0</th>\n",
       "      <td>VINCENT CHASE</td>\n",
       "      <td>by Lenskart UV Protection Aviator Sunglasses (53)</td>\n",
       "      <td>999</td>\n",
       "      <td>50</td>\n",
       "    </tr>\n",
       "    <tr>\n",
       "      <th>1</th>\n",
       "      <td>GANSTA</td>\n",
       "      <td>UV Protection Aviator Sunglasses (57)</td>\n",
       "      <td>269</td>\n",
       "      <td>86</td>\n",
       "    </tr>\n",
       "    <tr>\n",
       "      <th>2</th>\n",
       "      <td>SRPM</td>\n",
       "      <td>UV Protection Wayfarer Sunglasses (56)</td>\n",
       "      <td>188</td>\n",
       "      <td>85</td>\n",
       "    </tr>\n",
       "    <tr>\n",
       "      <th>3</th>\n",
       "      <td>PIRASO</td>\n",
       "      <td>UV Protection Aviator Sunglasses (54)</td>\n",
       "      <td>212</td>\n",
       "      <td>86</td>\n",
       "    </tr>\n",
       "    <tr>\n",
       "      <th>4</th>\n",
       "      <td>Elligator</td>\n",
       "      <td>UV Protection Round Sunglasses (54)</td>\n",
       "      <td>248</td>\n",
       "      <td>90</td>\n",
       "    </tr>\n",
       "    <tr>\n",
       "      <th>...</th>\n",
       "      <td>...</td>\n",
       "      <td>...</td>\n",
       "      <td>...</td>\n",
       "      <td>...</td>\n",
       "    </tr>\n",
       "    <tr>\n",
       "      <th>95</th>\n",
       "      <td>ROYAL SON</td>\n",
       "      <td>UV Protection Rectangular Sunglasses (55)</td>\n",
       "      <td>664</td>\n",
       "      <td>66</td>\n",
       "    </tr>\n",
       "    <tr>\n",
       "      <th>96</th>\n",
       "      <td>kingsunglasses</td>\n",
       "      <td>UV Protection Aviator Sunglasses (59)</td>\n",
       "      <td>259</td>\n",
       "      <td>82</td>\n",
       "    </tr>\n",
       "    <tr>\n",
       "      <th>97</th>\n",
       "      <td>WROGN</td>\n",
       "      <td>UV Protection, Riding Glasses Retro Square, Sp...</td>\n",
       "      <td>749</td>\n",
       "      <td>75</td>\n",
       "    </tr>\n",
       "    <tr>\n",
       "      <th>98</th>\n",
       "      <td>Lee Topper</td>\n",
       "      <td>Polarized, UV Protection Aviator Sunglasses (58)</td>\n",
       "      <td>375</td>\n",
       "      <td>71</td>\n",
       "    </tr>\n",
       "    <tr>\n",
       "      <th>99</th>\n",
       "      <td>ROYAL SON</td>\n",
       "      <td>UV Protection Rectangular Sunglasses (Free Size)</td>\n",
       "      <td>759</td>\n",
       "      <td>62</td>\n",
       "    </tr>\n",
       "  </tbody>\n",
       "</table>\n",
       "<p>100 rows × 4 columns</p>\n",
       "</div>"
      ],
      "text/plain": [
       "             Brand                                Product Description Price  \\\n",
       "0    VINCENT CHASE  by Lenskart UV Protection Aviator Sunglasses (53)   999   \n",
       "1           GANSTA              UV Protection Aviator Sunglasses (57)   269   \n",
       "2             SRPM             UV Protection Wayfarer Sunglasses (56)   188   \n",
       "3           PIRASO              UV Protection Aviator Sunglasses (54)   212   \n",
       "4        Elligator                UV Protection Round Sunglasses (54)   248   \n",
       "..             ...                                                ...   ...   \n",
       "95       ROYAL SON          UV Protection Rectangular Sunglasses (55)   664   \n",
       "96  kingsunglasses              UV Protection Aviator Sunglasses (59)   259   \n",
       "97           WROGN  UV Protection, Riding Glasses Retro Square, Sp...   749   \n",
       "98      Lee Topper   Polarized, UV Protection Aviator Sunglasses (58)   375   \n",
       "99       ROYAL SON   UV Protection Rectangular Sunglasses (Free Size)   759   \n",
       "\n",
       "   Discount %  \n",
       "0          50  \n",
       "1          86  \n",
       "2          85  \n",
       "3          86  \n",
       "4          90  \n",
       "..        ...  \n",
       "95         66  \n",
       "96         82  \n",
       "97         75  \n",
       "98         71  \n",
       "99         62  \n",
       "\n",
       "[100 rows x 4 columns]"
      ]
     },
     "execution_count": 62,
     "metadata": {},
     "output_type": "execute_result"
    }
   ],
   "source": [
    "flipkart=pd.DataFrame({})\n",
    "flipkart['Brand']=brand[0:100]\n",
    "flipkart['Product Description']=Description[0:100]\n",
    "flipkart['Price']=Price[0:100]\n",
    "flipkart['Discount %']=Discount[0:100]\n",
    "\n",
    "print(\"The data for the first 100 sunglasses listings on flipkart.com:\\n\")\n",
    "flipkart"
   ]
  },
  {
   "cell_type": "markdown",
   "id": "1041e6ee",
   "metadata": {},
   "source": [
    "# Q5: Scrape 100 reviews data from flipkart.com for iphone11 phone. You have to go the link:"
   ]
  },
  {
   "cell_type": "code",
   "execution_count": 63,
   "id": "de98dce6",
   "metadata": {},
   "outputs": [
    {
     "name": "stderr",
     "output_type": "stream",
     "text": [
      "<ipython-input-63-13e912361f02>:7: DeprecationWarning: find_element_by_* commands are deprecated. Please use find_element() instead\n",
      "  driver.find_element_by_xpath(\"//div[@class='_3UAT2v _16PBlm']/span\").click()\n"
     ]
    }
   ],
   "source": [
    "url = \"https://www.flipkart.com/apple-iphone-11-black-64-gb-includes-earpods-power%02adapter/p/itm0f37c2240b217?pid=MOBFKCTSVZAXUHGR&lid=LSTMOBFKCTSVZAXUHGREPBFGI&marketplace\"\n",
    "\n",
    "# open the webpage through our web driver\n",
    "driver.get(url)\n",
    "\n",
    "# clicking for all reviews\n",
    "driver.find_element_by_xpath(\"//div[@class='_3UAT2v _16PBlm']/span\").click()"
   ]
  },
  {
   "cell_type": "code",
   "execution_count": 64,
   "id": "3927b38c",
   "metadata": {},
   "outputs": [
    {
     "name": "stderr",
     "output_type": "stream",
     "text": [
      "<ipython-input-64-86019b216097>:3: DeprecationWarning: find_elements_by_* commands are deprecated. Please use find_elements() instead\n",
      "  url=driver.find_elements_by_xpath(\"//nav[@class='yFHi8N']//a\")\n"
     ]
    }
   ],
   "source": [
    "page_url=[]\n",
    "\n",
    "url=driver.find_elements_by_xpath(\"//nav[@class='yFHi8N']//a\")\n",
    "for i in url:\n",
    "    page_url.append(i.get_attribute('href'))\n",
    "page_url=page_url[0:13]"
   ]
  },
  {
   "cell_type": "code",
   "execution_count": 65,
   "id": "36689c18",
   "metadata": {},
   "outputs": [
    {
     "name": "stderr",
     "output_type": "stream",
     "text": [
      "<ipython-input-65-1fdd5ca7f00f>:10: DeprecationWarning: find_elements_by_* commands are deprecated. Please use find_elements() instead\n",
      "  rat=driver.find_elements_by_xpath(\"//div[@class='_3LWZlK _1BLPMq']\")\n",
      "<ipython-input-65-1fdd5ca7f00f>:14: DeprecationWarning: find_elements_by_* commands are deprecated. Please use find_elements() instead\n",
      "  summary=driver.find_elements_by_xpath(\"//p[@class='_2-N8zT']\")\n",
      "<ipython-input-65-1fdd5ca7f00f>:18: DeprecationWarning: find_elements_by_* commands are deprecated. Please use find_elements() instead\n",
      "  review=driver.find_elements_by_xpath(\"//div[@class='t-ZTKy']\")\n"
     ]
    }
   ],
   "source": [
    "Rating=[]\n",
    "Review_summary=[]\n",
    "Full_review=[]\n",
    "\n",
    "# extracting all the tags\n",
    "\n",
    "for i in page_url:\n",
    "    driver.get(i)\n",
    "\n",
    "    rat=driver.find_elements_by_xpath(\"//div[@class='_3LWZlK _1BLPMq']\")\n",
    "    for i in rat:\n",
    "        Rating.append(i.text)\n",
    "\n",
    "    summary=driver.find_elements_by_xpath(\"//p[@class='_2-N8zT']\")\n",
    "    for i in summary:\n",
    "        Review_summary.append(i.text)\n",
    "\n",
    "    review=driver.find_elements_by_xpath(\"//div[@class='t-ZTKy']\")\n",
    "    for i in review:\n",
    "        Full_review.append(i.text)"
   ]
  },
  {
   "cell_type": "code",
   "execution_count": 66,
   "id": "dd466b3e",
   "metadata": {},
   "outputs": [
    {
     "name": "stdout",
     "output_type": "stream",
     "text": [
      "The data for the first 100 reviews data from flipkart.com for iphone11 phone:\n",
      "\n"
     ]
    },
    {
     "data": {
      "text/html": [
       "<div>\n",
       "<style scoped>\n",
       "    .dataframe tbody tr th:only-of-type {\n",
       "        vertical-align: middle;\n",
       "    }\n",
       "\n",
       "    .dataframe tbody tr th {\n",
       "        vertical-align: top;\n",
       "    }\n",
       "\n",
       "    .dataframe thead th {\n",
       "        text-align: right;\n",
       "    }\n",
       "</style>\n",
       "<table border=\"1\" class=\"dataframe\">\n",
       "  <thead>\n",
       "    <tr style=\"text-align: right;\">\n",
       "      <th></th>\n",
       "      <th>Rating</th>\n",
       "      <th>Review Summary</th>\n",
       "      <th>Full Review</th>\n",
       "    </tr>\n",
       "  </thead>\n",
       "  <tbody>\n",
       "    <tr>\n",
       "      <th>0</th>\n",
       "      <td>5</td>\n",
       "      <td>Brilliant</td>\n",
       "      <td>The Best Phone for the Money\\n\\nThe iPhone 11 ...</td>\n",
       "    </tr>\n",
       "    <tr>\n",
       "      <th>1</th>\n",
       "      <td>5</td>\n",
       "      <td>Simply awesome</td>\n",
       "      <td>Really satisfied with the Product I received.....</td>\n",
       "    </tr>\n",
       "    <tr>\n",
       "      <th>2</th>\n",
       "      <td>5</td>\n",
       "      <td>Best in the market!</td>\n",
       "      <td>Great iPhone very snappy experience as apple k...</td>\n",
       "    </tr>\n",
       "    <tr>\n",
       "      <th>3</th>\n",
       "      <td>5</td>\n",
       "      <td>Perfect product!</td>\n",
       "      <td>Amazing phone with great cameras and better ba...</td>\n",
       "    </tr>\n",
       "    <tr>\n",
       "      <th>4</th>\n",
       "      <td>5</td>\n",
       "      <td>Worth every penny</td>\n",
       "      <td>Previously I was using one plus 3t it was a gr...</td>\n",
       "    </tr>\n",
       "    <tr>\n",
       "      <th>...</th>\n",
       "      <td>...</td>\n",
       "      <td>...</td>\n",
       "      <td>...</td>\n",
       "    </tr>\n",
       "    <tr>\n",
       "      <th>95</th>\n",
       "      <td>5</td>\n",
       "      <td>Awesome</td>\n",
       "      <td>The phone is completely good\\nAs far as camera...</td>\n",
       "    </tr>\n",
       "    <tr>\n",
       "      <th>96</th>\n",
       "      <td>3</td>\n",
       "      <td>Decent product</td>\n",
       "      <td>Everything u ll like it when u use this iPhone...</td>\n",
       "    </tr>\n",
       "    <tr>\n",
       "      <th>97</th>\n",
       "      <td>5</td>\n",
       "      <td>Brilliant</td>\n",
       "      <td>A wort full value for money decision it’s . Si...</td>\n",
       "    </tr>\n",
       "    <tr>\n",
       "      <th>98</th>\n",
       "      <td>5</td>\n",
       "      <td>Awesome</td>\n",
       "      <td>Can’t beat the software and hardware integrati...</td>\n",
       "    </tr>\n",
       "    <tr>\n",
       "      <th>99</th>\n",
       "      <td>5</td>\n",
       "      <td>Does the job</td>\n",
       "      <td>phone is good but in display is 720p lcd in th...</td>\n",
       "    </tr>\n",
       "  </tbody>\n",
       "</table>\n",
       "<p>100 rows × 3 columns</p>\n",
       "</div>"
      ],
      "text/plain": [
       "   Rating       Review Summary  \\\n",
       "0       5            Brilliant   \n",
       "1       5       Simply awesome   \n",
       "2       5  Best in the market!   \n",
       "3       5     Perfect product!   \n",
       "4       5    Worth every penny   \n",
       "..    ...                  ...   \n",
       "95      5              Awesome   \n",
       "96      3       Decent product   \n",
       "97      5            Brilliant   \n",
       "98      5              Awesome   \n",
       "99      5         Does the job   \n",
       "\n",
       "                                          Full Review  \n",
       "0   The Best Phone for the Money\\n\\nThe iPhone 11 ...  \n",
       "1   Really satisfied with the Product I received.....  \n",
       "2   Great iPhone very snappy experience as apple k...  \n",
       "3   Amazing phone with great cameras and better ba...  \n",
       "4   Previously I was using one plus 3t it was a gr...  \n",
       "..                                                ...  \n",
       "95  The phone is completely good\\nAs far as camera...  \n",
       "96  Everything u ll like it when u use this iPhone...  \n",
       "97  A wort full value for money decision it’s . Si...  \n",
       "98  Can’t beat the software and hardware integrati...  \n",
       "99  phone is good but in display is 720p lcd in th...  \n",
       "\n",
       "[100 rows x 3 columns]"
      ]
     },
     "execution_count": 66,
     "metadata": {},
     "output_type": "execute_result"
    }
   ],
   "source": [
    "flipkart=pd.DataFrame({})\n",
    "flipkart['Rating']=Rating[0:100]\n",
    "flipkart['Review Summary']=Review_summary[0:100]\n",
    "flipkart['Full Review']=Full_review[0:100]\n",
    "\n",
    "\n",
    "print(\"The data for the first 100 reviews data from flipkart.com for iphone11 phone:\\n\")\n",
    "flipkart"
   ]
  },
  {
   "cell_type": "markdown",
   "id": "81e027c7",
   "metadata": {},
   "source": [
    "# Q6: Scrape data for first 100 sneakers you find when you visit https://www.flipkart.com and search for “sneakers” in the search field."
   ]
  },
  {
   "cell_type": "code",
   "execution_count": 67,
   "id": "84b18833",
   "metadata": {},
   "outputs": [],
   "source": [
    "driver.get(\"https://www.flipkart.com/\")"
   ]
  },
  {
   "cell_type": "code",
   "execution_count": 68,
   "id": "bfb52247",
   "metadata": {},
   "outputs": [
    {
     "name": "stderr",
     "output_type": "stream",
     "text": [
      "<ipython-input-68-3b7350471d8f>:1: DeprecationWarning: find_element_by_* commands are deprecated. Please use find_element() instead\n",
      "  search_product = driver.find_element_by_xpath(\"//div[@class='_3OO5Xc']/input\")\n",
      "<ipython-input-68-3b7350471d8f>:5: DeprecationWarning: find_element_by_* commands are deprecated. Please use find_element() instead\n",
      "  search_btn = driver.find_element_by_xpath(\"//button[@class='L0Z3Pu']\")\n"
     ]
    },
    {
     "ename": "ElementClickInterceptedException",
     "evalue": "Message: element click intercepted: Element <button class=\"L0Z3Pu\" type=\"submit\">...</button> is not clickable at point (556, 28). Other element would receive the click: <div class=\"_2hriZF _2rbIyg\" tabindex=\"-1\">...</div>\n  (Session info: chrome=96.0.4664.93)\nStacktrace:\nBacktrace:\n\tOrdinal0 [0x00C96903+2517251]\n\tOrdinal0 [0x00C2F8E1+2095329]\n\tOrdinal0 [0x00B32848+1058888]\n\tOrdinal0 [0x00B63509+1258761]\n\tOrdinal0 [0x00B61868+1251432]\n\tOrdinal0 [0x00B5F65D+1242717]\n\tOrdinal0 [0x00B5E4A8+1238184]\n\tOrdinal0 [0x00B54037+1196087]\n\tOrdinal0 [0x00B764D3+1336531]\n\tOrdinal0 [0x00B53A36+1194550]\n\tOrdinal0 [0x00B765BA+1336762]\n\tOrdinal0 [0x00B85BBF+1399743]\n\tOrdinal0 [0x00B7639B+1336219]\n\tOrdinal0 [0x00B527A7+1189799]\n\tOrdinal0 [0x00B53609+1193481]\n\tGetHandleVerifier [0x00E25904+1577972]\n\tGetHandleVerifier [0x00ED0B97+2279047]\n\tGetHandleVerifier [0x00D26D09+534521]\n\tGetHandleVerifier [0x00D25DB9+530601]\n\tOrdinal0 [0x00C34FF9+2117625]\n\tOrdinal0 [0x00C398A8+2136232]\n\tOrdinal0 [0x00C399E2+2136546]\n\tOrdinal0 [0x00C43541+2176321]\n\tBaseThreadInitThunk [0x760D5749+25]\n\tRtlGetAppContainerNamedObjectPath [0x76F6F7B0+288]\n\tRtlGetAppContainerNamedObjectPath [0x76F6F77E+238]\n",
     "output_type": "error",
     "traceback": [
      "\u001b[1;31m---------------------------------------------------------------------------\u001b[0m",
      "\u001b[1;31mElementClickInterceptedException\u001b[0m          Traceback (most recent call last)",
      "\u001b[1;32m<ipython-input-68-3b7350471d8f>\u001b[0m in \u001b[0;36m<module>\u001b[1;34m\u001b[0m\n\u001b[0;32m      4\u001b[0m \u001b[1;31m# click the search button\u001b[0m\u001b[1;33m\u001b[0m\u001b[1;33m\u001b[0m\u001b[1;33m\u001b[0m\u001b[0m\n\u001b[0;32m      5\u001b[0m \u001b[0msearch_btn\u001b[0m \u001b[1;33m=\u001b[0m \u001b[0mdriver\u001b[0m\u001b[1;33m.\u001b[0m\u001b[0mfind_element_by_xpath\u001b[0m\u001b[1;33m(\u001b[0m\u001b[1;34m\"//button[@class='L0Z3Pu']\"\u001b[0m\u001b[1;33m)\u001b[0m\u001b[1;33m\u001b[0m\u001b[1;33m\u001b[0m\u001b[0m\n\u001b[1;32m----> 6\u001b[1;33m \u001b[0msearch_btn\u001b[0m\u001b[1;33m.\u001b[0m\u001b[0mclick\u001b[0m\u001b[1;33m(\u001b[0m\u001b[1;33m)\u001b[0m\u001b[1;33m\u001b[0m\u001b[1;33m\u001b[0m\u001b[0m\n\u001b[0m",
      "\u001b[1;32m~\\anaconda3\\lib\\site-packages\\selenium\\webdriver\\remote\\webelement.py\u001b[0m in \u001b[0;36mclick\u001b[1;34m(self)\u001b[0m\n\u001b[0;32m     79\u001b[0m     \u001b[1;32mdef\u001b[0m \u001b[0mclick\u001b[0m\u001b[1;33m(\u001b[0m\u001b[0mself\u001b[0m\u001b[1;33m)\u001b[0m \u001b[1;33m->\u001b[0m \u001b[1;32mNone\u001b[0m\u001b[1;33m:\u001b[0m\u001b[1;33m\u001b[0m\u001b[1;33m\u001b[0m\u001b[0m\n\u001b[0;32m     80\u001b[0m         \u001b[1;34m\"\"\"Clicks the element.\"\"\"\u001b[0m\u001b[1;33m\u001b[0m\u001b[1;33m\u001b[0m\u001b[0m\n\u001b[1;32m---> 81\u001b[1;33m         \u001b[0mself\u001b[0m\u001b[1;33m.\u001b[0m\u001b[0m_execute\u001b[0m\u001b[1;33m(\u001b[0m\u001b[0mCommand\u001b[0m\u001b[1;33m.\u001b[0m\u001b[0mCLICK_ELEMENT\u001b[0m\u001b[1;33m)\u001b[0m\u001b[1;33m\u001b[0m\u001b[1;33m\u001b[0m\u001b[0m\n\u001b[0m\u001b[0;32m     82\u001b[0m \u001b[1;33m\u001b[0m\u001b[0m\n\u001b[0;32m     83\u001b[0m     \u001b[1;32mdef\u001b[0m \u001b[0msubmit\u001b[0m\u001b[1;33m(\u001b[0m\u001b[0mself\u001b[0m\u001b[1;33m)\u001b[0m\u001b[1;33m:\u001b[0m\u001b[1;33m\u001b[0m\u001b[1;33m\u001b[0m\u001b[0m\n",
      "\u001b[1;32m~\\anaconda3\\lib\\site-packages\\selenium\\webdriver\\remote\\webelement.py\u001b[0m in \u001b[0;36m_execute\u001b[1;34m(self, command, params)\u001b[0m\n\u001b[0;32m    708\u001b[0m             \u001b[0mparams\u001b[0m \u001b[1;33m=\u001b[0m \u001b[1;33m{\u001b[0m\u001b[1;33m}\u001b[0m\u001b[1;33m\u001b[0m\u001b[1;33m\u001b[0m\u001b[0m\n\u001b[0;32m    709\u001b[0m         \u001b[0mparams\u001b[0m\u001b[1;33m[\u001b[0m\u001b[1;34m'id'\u001b[0m\u001b[1;33m]\u001b[0m \u001b[1;33m=\u001b[0m \u001b[0mself\u001b[0m\u001b[1;33m.\u001b[0m\u001b[0m_id\u001b[0m\u001b[1;33m\u001b[0m\u001b[1;33m\u001b[0m\u001b[0m\n\u001b[1;32m--> 710\u001b[1;33m         \u001b[1;32mreturn\u001b[0m \u001b[0mself\u001b[0m\u001b[1;33m.\u001b[0m\u001b[0m_parent\u001b[0m\u001b[1;33m.\u001b[0m\u001b[0mexecute\u001b[0m\u001b[1;33m(\u001b[0m\u001b[0mcommand\u001b[0m\u001b[1;33m,\u001b[0m \u001b[0mparams\u001b[0m\u001b[1;33m)\u001b[0m\u001b[1;33m\u001b[0m\u001b[1;33m\u001b[0m\u001b[0m\n\u001b[0m\u001b[0;32m    711\u001b[0m \u001b[1;33m\u001b[0m\u001b[0m\n\u001b[0;32m    712\u001b[0m     \u001b[1;32mdef\u001b[0m \u001b[0mfind_element\u001b[0m\u001b[1;33m(\u001b[0m\u001b[0mself\u001b[0m\u001b[1;33m,\u001b[0m \u001b[0mby\u001b[0m\u001b[1;33m=\u001b[0m\u001b[0mBy\u001b[0m\u001b[1;33m.\u001b[0m\u001b[0mID\u001b[0m\u001b[1;33m,\u001b[0m \u001b[0mvalue\u001b[0m\u001b[1;33m=\u001b[0m\u001b[1;32mNone\u001b[0m\u001b[1;33m)\u001b[0m\u001b[1;33m:\u001b[0m\u001b[1;33m\u001b[0m\u001b[1;33m\u001b[0m\u001b[0m\n",
      "\u001b[1;32m~\\anaconda3\\lib\\site-packages\\selenium\\webdriver\\remote\\webdriver.py\u001b[0m in \u001b[0;36mexecute\u001b[1;34m(self, driver_command, params)\u001b[0m\n\u001b[0;32m    422\u001b[0m         \u001b[0mresponse\u001b[0m \u001b[1;33m=\u001b[0m \u001b[0mself\u001b[0m\u001b[1;33m.\u001b[0m\u001b[0mcommand_executor\u001b[0m\u001b[1;33m.\u001b[0m\u001b[0mexecute\u001b[0m\u001b[1;33m(\u001b[0m\u001b[0mdriver_command\u001b[0m\u001b[1;33m,\u001b[0m \u001b[0mparams\u001b[0m\u001b[1;33m)\u001b[0m\u001b[1;33m\u001b[0m\u001b[1;33m\u001b[0m\u001b[0m\n\u001b[0;32m    423\u001b[0m         \u001b[1;32mif\u001b[0m \u001b[0mresponse\u001b[0m\u001b[1;33m:\u001b[0m\u001b[1;33m\u001b[0m\u001b[1;33m\u001b[0m\u001b[0m\n\u001b[1;32m--> 424\u001b[1;33m             \u001b[0mself\u001b[0m\u001b[1;33m.\u001b[0m\u001b[0merror_handler\u001b[0m\u001b[1;33m.\u001b[0m\u001b[0mcheck_response\u001b[0m\u001b[1;33m(\u001b[0m\u001b[0mresponse\u001b[0m\u001b[1;33m)\u001b[0m\u001b[1;33m\u001b[0m\u001b[1;33m\u001b[0m\u001b[0m\n\u001b[0m\u001b[0;32m    425\u001b[0m             response['value'] = self._unwrap_value(\n\u001b[0;32m    426\u001b[0m                 response.get('value', None))\n",
      "\u001b[1;32m~\\anaconda3\\lib\\site-packages\\selenium\\webdriver\\remote\\errorhandler.py\u001b[0m in \u001b[0;36mcheck_response\u001b[1;34m(self, response)\u001b[0m\n\u001b[0;32m    245\u001b[0m                 \u001b[0malert_text\u001b[0m \u001b[1;33m=\u001b[0m \u001b[0mvalue\u001b[0m\u001b[1;33m[\u001b[0m\u001b[1;34m'alert'\u001b[0m\u001b[1;33m]\u001b[0m\u001b[1;33m.\u001b[0m\u001b[0mget\u001b[0m\u001b[1;33m(\u001b[0m\u001b[1;34m'text'\u001b[0m\u001b[1;33m)\u001b[0m\u001b[1;33m\u001b[0m\u001b[1;33m\u001b[0m\u001b[0m\n\u001b[0;32m    246\u001b[0m             \u001b[1;32mraise\u001b[0m \u001b[0mexception_class\u001b[0m\u001b[1;33m(\u001b[0m\u001b[0mmessage\u001b[0m\u001b[1;33m,\u001b[0m \u001b[0mscreen\u001b[0m\u001b[1;33m,\u001b[0m \u001b[0mstacktrace\u001b[0m\u001b[1;33m,\u001b[0m \u001b[0malert_text\u001b[0m\u001b[1;33m)\u001b[0m  \u001b[1;31m# type: ignore[call-arg]  # mypy is not smart enough here\u001b[0m\u001b[1;33m\u001b[0m\u001b[1;33m\u001b[0m\u001b[0m\n\u001b[1;32m--> 247\u001b[1;33m         \u001b[1;32mraise\u001b[0m \u001b[0mexception_class\u001b[0m\u001b[1;33m(\u001b[0m\u001b[0mmessage\u001b[0m\u001b[1;33m,\u001b[0m \u001b[0mscreen\u001b[0m\u001b[1;33m,\u001b[0m \u001b[0mstacktrace\u001b[0m\u001b[1;33m)\u001b[0m\u001b[1;33m\u001b[0m\u001b[1;33m\u001b[0m\u001b[0m\n\u001b[0m\u001b[0;32m    248\u001b[0m \u001b[1;33m\u001b[0m\u001b[0m\n\u001b[0;32m    249\u001b[0m     \u001b[1;32mdef\u001b[0m \u001b[0m_value_or_default\u001b[0m\u001b[1;33m(\u001b[0m\u001b[0mself\u001b[0m\u001b[1;33m,\u001b[0m \u001b[0mobj\u001b[0m\u001b[1;33m:\u001b[0m \u001b[0mMapping\u001b[0m\u001b[1;33m[\u001b[0m\u001b[0m_KT\u001b[0m\u001b[1;33m,\u001b[0m \u001b[0m_VT\u001b[0m\u001b[1;33m]\u001b[0m\u001b[1;33m,\u001b[0m \u001b[0mkey\u001b[0m\u001b[1;33m:\u001b[0m \u001b[0m_KT\u001b[0m\u001b[1;33m,\u001b[0m \u001b[0mdefault\u001b[0m\u001b[1;33m:\u001b[0m \u001b[0m_VT\u001b[0m\u001b[1;33m)\u001b[0m \u001b[1;33m->\u001b[0m \u001b[0m_VT\u001b[0m\u001b[1;33m:\u001b[0m\u001b[1;33m\u001b[0m\u001b[1;33m\u001b[0m\u001b[0m\n",
      "\u001b[1;31mElementClickInterceptedException\u001b[0m: Message: element click intercepted: Element <button class=\"L0Z3Pu\" type=\"submit\">...</button> is not clickable at point (556, 28). Other element would receive the click: <div class=\"_2hriZF _2rbIyg\" tabindex=\"-1\">...</div>\n  (Session info: chrome=96.0.4664.93)\nStacktrace:\nBacktrace:\n\tOrdinal0 [0x00C96903+2517251]\n\tOrdinal0 [0x00C2F8E1+2095329]\n\tOrdinal0 [0x00B32848+1058888]\n\tOrdinal0 [0x00B63509+1258761]\n\tOrdinal0 [0x00B61868+1251432]\n\tOrdinal0 [0x00B5F65D+1242717]\n\tOrdinal0 [0x00B5E4A8+1238184]\n\tOrdinal0 [0x00B54037+1196087]\n\tOrdinal0 [0x00B764D3+1336531]\n\tOrdinal0 [0x00B53A36+1194550]\n\tOrdinal0 [0x00B765BA+1336762]\n\tOrdinal0 [0x00B85BBF+1399743]\n\tOrdinal0 [0x00B7639B+1336219]\n\tOrdinal0 [0x00B527A7+1189799]\n\tOrdinal0 [0x00B53609+1193481]\n\tGetHandleVerifier [0x00E25904+1577972]\n\tGetHandleVerifier [0x00ED0B97+2279047]\n\tGetHandleVerifier [0x00D26D09+534521]\n\tGetHandleVerifier [0x00D25DB9+530601]\n\tOrdinal0 [0x00C34FF9+2117625]\n\tOrdinal0 [0x00C398A8+2136232]\n\tOrdinal0 [0x00C399E2+2136546]\n\tOrdinal0 [0x00C43541+2176321]\n\tBaseThreadInitThunk [0x760D5749+25]\n\tRtlGetAppContainerNamedObjectPath [0x76F6F7B0+288]\n\tRtlGetAppContainerNamedObjectPath [0x76F6F77E+238]\n"
     ]
    }
   ],
   "source": [
    "search_product = driver.find_element_by_xpath(\"//div[@class='_3OO5Xc']/input\")\n",
    "search_product.send_keys(\"sneakers\")\n",
    "\n",
    "# click the search button\n",
    "search_btn = driver.find_element_by_xpath(\"//button[@class='L0Z3Pu']\")\n",
    "search_btn.click()"
   ]
  },
  {
   "cell_type": "code",
   "execution_count": 69,
   "id": "1eaad216",
   "metadata": {},
   "outputs": [],
   "source": [
    "url = \"https://www.flipkart.com/search?q=sneakers&otracker=search&otracker1=search&marketplace=FLIPKART&as-show=on&as=off\"\n",
    "\n",
    "# open the webpage through our web driver\n",
    "driver.get(url)"
   ]
  },
  {
   "cell_type": "code",
   "execution_count": 70,
   "id": "9bddec95",
   "metadata": {},
   "outputs": [
    {
     "name": "stderr",
     "output_type": "stream",
     "text": [
      "<ipython-input-70-4ad5f720e448>:3: DeprecationWarning: find_elements_by_* commands are deprecated. Please use find_elements() instead\n",
      "  url=driver.find_elements_by_xpath(\"//nav[@class='yFHi8N']//a\")\n"
     ]
    }
   ],
   "source": [
    "page_url=[]\n",
    "\n",
    "url=driver.find_elements_by_xpath(\"//nav[@class='yFHi8N']//a\")\n",
    "for i in url:\n",
    "    page_url.append(i.get_attribute('href'))\n",
    "page_url=page_url[0:5]"
   ]
  },
  {
   "cell_type": "code",
   "execution_count": 72,
   "id": "b3a0f488",
   "metadata": {},
   "outputs": [
    {
     "name": "stderr",
     "output_type": "stream",
     "text": [
      "<ipython-input-72-a31273f731f8>:10: DeprecationWarning: find_elements_by_* commands are deprecated. Please use find_elements() instead\n",
      "  titles_brand=driver.find_elements_by_xpath(\"//div[@class='_2WkVRV']\")\n",
      "<ipython-input-72-a31273f731f8>:14: DeprecationWarning: find_elements_by_* commands are deprecated. Please use find_elements() instead\n",
      "  titles_Description=driver.find_elements_by_xpath(\"//a[@class='IRpwTa']\")\n",
      "<ipython-input-72-a31273f731f8>:18: DeprecationWarning: find_elements_by_* commands are deprecated. Please use find_elements() instead\n",
      "  titles_Price=driver.find_elements_by_xpath(\"//div[@class='_30jeq3']\")\n",
      "<ipython-input-72-a31273f731f8>:22: DeprecationWarning: find_elements_by_* commands are deprecated. Please use find_elements() instead\n",
      "  titles_Discount=driver.find_elements_by_xpath(\"//div[@class='_3Ay6Sb']/span\")\n"
     ]
    }
   ],
   "source": [
    "brand=[]\n",
    "Description=[]\n",
    "Price=[]\n",
    "Discount=[] \n",
    "\n",
    "# extracting all the tags\n",
    "\n",
    "for i in page_url:\n",
    "    driver.get(i)\n",
    "    titles_brand=driver.find_elements_by_xpath(\"//div[@class='_2WkVRV']\")\n",
    "    for i in titles_brand:\n",
    "        brand.append(i.text)\n",
    "        \n",
    "    titles_Description=driver.find_elements_by_xpath(\"//a[@class='IRpwTa']\")\n",
    "    for i in titles_Description:\n",
    "        Description.append(i.text)\n",
    "        \n",
    "    titles_Price=driver.find_elements_by_xpath(\"//div[@class='_30jeq3']\")\n",
    "    for i in titles_Price:\n",
    "        Price.append(i.text.replace(\"₹\",\"\"))\n",
    "        \n",
    "    titles_Discount=driver.find_elements_by_xpath(\"//div[@class='_3Ay6Sb']/span\")\n",
    "    for i in titles_Discount:\n",
    "        Discount.append(i.text.replace(\"% off\",\"\"))"
   ]
  },
  {
   "cell_type": "code",
   "execution_count": 73,
   "id": "288c9385",
   "metadata": {},
   "outputs": [
    {
     "name": "stdout",
     "output_type": "stream",
     "text": [
      "The data for the first 100 sneakers listings on flipkart.com:\n",
      "\n"
     ]
    },
    {
     "data": {
      "text/html": [
       "<div>\n",
       "<style scoped>\n",
       "    .dataframe tbody tr th:only-of-type {\n",
       "        vertical-align: middle;\n",
       "    }\n",
       "\n",
       "    .dataframe tbody tr th {\n",
       "        vertical-align: top;\n",
       "    }\n",
       "\n",
       "    .dataframe thead th {\n",
       "        text-align: right;\n",
       "    }\n",
       "</style>\n",
       "<table border=\"1\" class=\"dataframe\">\n",
       "  <thead>\n",
       "    <tr style=\"text-align: right;\">\n",
       "      <th></th>\n",
       "      <th>Brand</th>\n",
       "      <th>Product Description</th>\n",
       "      <th>Price₹</th>\n",
       "      <th>Discount %</th>\n",
       "    </tr>\n",
       "  </thead>\n",
       "  <tbody>\n",
       "    <tr>\n",
       "      <th>0</th>\n",
       "      <td>SRK</td>\n",
       "      <td>Sneakers For Men</td>\n",
       "      <td>549</td>\n",
       "      <td>54</td>\n",
       "    </tr>\n",
       "    <tr>\n",
       "      <th>1</th>\n",
       "      <td>BIRDE</td>\n",
       "      <td>Sports Running Shoes Sneakers For Men</td>\n",
       "      <td>423</td>\n",
       "      <td>57</td>\n",
       "    </tr>\n",
       "    <tr>\n",
       "      <th>2</th>\n",
       "      <td>RapidBox</td>\n",
       "      <td>Super Stylish &amp; Trendy Combo Pack of 02 Pairs ...</td>\n",
       "      <td>590</td>\n",
       "      <td>40</td>\n",
       "    </tr>\n",
       "    <tr>\n",
       "      <th>3</th>\n",
       "      <td>BIRDE</td>\n",
       "      <td>Modern Trendy Sneakers Shoes Sneakers For Men</td>\n",
       "      <td>322</td>\n",
       "      <td>35</td>\n",
       "    </tr>\n",
       "    <tr>\n",
       "      <th>4</th>\n",
       "      <td>Chevit</td>\n",
       "      <td>Combo Pack of 4 Casual Sneakers With Sneakers ...</td>\n",
       "      <td>536</td>\n",
       "      <td>66</td>\n",
       "    </tr>\n",
       "    <tr>\n",
       "      <th>...</th>\n",
       "      <td>...</td>\n",
       "      <td>...</td>\n",
       "      <td>...</td>\n",
       "      <td>...</td>\n",
       "    </tr>\n",
       "    <tr>\n",
       "      <th>95</th>\n",
       "      <td>India hub</td>\n",
       "      <td>Designer Printed Casual Sneakers Shoes Sneaker...</td>\n",
       "      <td>449</td>\n",
       "      <td>46</td>\n",
       "    </tr>\n",
       "    <tr>\n",
       "      <th>96</th>\n",
       "      <td>India hub</td>\n",
       "      <td>Sneakers For Men</td>\n",
       "      <td>474</td>\n",
       "      <td>35</td>\n",
       "    </tr>\n",
       "    <tr>\n",
       "      <th>97</th>\n",
       "      <td>BIRDE</td>\n",
       "      <td>3 Pair Combo Sneakers For Men</td>\n",
       "      <td>535</td>\n",
       "      <td>48</td>\n",
       "    </tr>\n",
       "    <tr>\n",
       "      <th>98</th>\n",
       "      <td>BIRDE</td>\n",
       "      <td>Sneakers For Men</td>\n",
       "      <td>322</td>\n",
       "      <td>61</td>\n",
       "    </tr>\n",
       "    <tr>\n",
       "      <th>99</th>\n",
       "      <td>SHOEFLY</td>\n",
       "      <td>Puma Smash Vulc Sneakers For Men</td>\n",
       "      <td>259</td>\n",
       "      <td>15</td>\n",
       "    </tr>\n",
       "  </tbody>\n",
       "</table>\n",
       "<p>100 rows × 4 columns</p>\n",
       "</div>"
      ],
      "text/plain": [
       "        Brand                                Product Description Price₹  \\\n",
       "0         SRK                                   Sneakers For Men    549   \n",
       "1       BIRDE              Sports Running Shoes Sneakers For Men    423   \n",
       "2    RapidBox  Super Stylish & Trendy Combo Pack of 02 Pairs ...    590   \n",
       "3       BIRDE      Modern Trendy Sneakers Shoes Sneakers For Men    322   \n",
       "4      Chevit  Combo Pack of 4 Casual Sneakers With Sneakers ...    536   \n",
       "..        ...                                                ...    ...   \n",
       "95  India hub  Designer Printed Casual Sneakers Shoes Sneaker...    449   \n",
       "96  India hub                                   Sneakers For Men    474   \n",
       "97      BIRDE                      3 Pair Combo Sneakers For Men    535   \n",
       "98      BIRDE                                   Sneakers For Men    322   \n",
       "99    SHOEFLY                   Puma Smash Vulc Sneakers For Men    259   \n",
       "\n",
       "   Discount %  \n",
       "0          54  \n",
       "1          57  \n",
       "2          40  \n",
       "3          35  \n",
       "4          66  \n",
       "..        ...  \n",
       "95         46  \n",
       "96         35  \n",
       "97         48  \n",
       "98         61  \n",
       "99         15  \n",
       "\n",
       "[100 rows x 4 columns]"
      ]
     },
     "execution_count": 73,
     "metadata": {},
     "output_type": "execute_result"
    }
   ],
   "source": [
    "flipkart=pd.DataFrame({})\n",
    "flipkart['Brand']=brand[0:100]\n",
    "flipkart['Product Description']=Description[0:100]\n",
    "flipkart['Price₹']=Price[0:100]\n",
    "flipkart['Discount %']=Discount[0:100]\n",
    "\n",
    "print(\"The data for the first 100 sneakers listings on flipkart.com:\\n\")\n",
    "flipkart"
   ]
  },
  {
   "cell_type": "markdown",
   "id": "fa993b8a",
   "metadata": {},
   "source": [
    "# Q7: Go to the link - https://www.myntra.com/shoes https://www.myntra.com/shoes Set Price filter to “Rs. 6649 to Rs. 13099” , Color filter to “Black” And then scrape First 100 shoes data you get. The data should include “Brand” of the shoes , Short Shoe description, price of the shoe ."
   ]
  },
  {
   "cell_type": "code",
   "execution_count": 74,
   "id": "328f19b8",
   "metadata": {},
   "outputs": [],
   "source": [
    "driver.get(\"https://www.myntra.com/shoes\")"
   ]
  },
  {
   "cell_type": "code",
   "execution_count": 75,
   "id": "d1913e1d",
   "metadata": {},
   "outputs": [
    {
     "name": "stderr",
     "output_type": "stream",
     "text": [
      "<ipython-input-75-ed8c0f007a2b>:1: DeprecationWarning: find_elements_by_* commands are deprecated. Please use find_elements() instead\n",
      "  price = driver.find_elements_by_xpath(\"//ul[@class ='price-list']//label[@class ='common-customCheckbox vertical-filters-label']/div[@class = 'common-checkboxIndicator']\")\n"
     ]
    }
   ],
   "source": [
    "price = driver.find_elements_by_xpath(\"//ul[@class ='price-list']//label[@class ='common-customCheckbox vertical-filters-label']/div[@class = 'common-checkboxIndicator']\") \n",
    "price[1].click()"
   ]
  },
  {
   "cell_type": "code",
   "execution_count": 76,
   "id": "508c9a83",
   "metadata": {},
   "outputs": [
    {
     "name": "stderr",
     "output_type": "stream",
     "text": [
      "<ipython-input-76-919b4222bcda>:1: DeprecationWarning: find_elements_by_* commands are deprecated. Please use find_elements() instead\n",
      "  color = driver.find_elements_by_xpath(\"//li[@class ='colour-listItem']//label[@class ='common-customCheckbox']/div[@class = 'common-checkboxIndicator']\")\n"
     ]
    }
   ],
   "source": [
    "color = driver.find_elements_by_xpath(\"//li[@class ='colour-listItem']//label[@class ='common-customCheckbox']/div[@class = 'common-checkboxIndicator']\") \n",
    "color[0].click()"
   ]
  },
  {
   "cell_type": "code",
   "execution_count": 77,
   "id": "da3437cd",
   "metadata": {},
   "outputs": [],
   "source": [
    "url = \"https://www.myntra.com/shoes?f=Color%3ABlack_36454f&rf=Price%3A7149.0_14099.0_7149.0%20TO%2014099.0\"\n",
    "\n",
    "# open the webpage through our web driver\n",
    "driver.get(url)"
   ]
  },
  {
   "cell_type": "code",
   "execution_count": 78,
   "id": "c1e8b51b",
   "metadata": {},
   "outputs": [
    {
     "name": "stderr",
     "output_type": "stream",
     "text": [
      "<ipython-input-78-f6dfb382be4b>:3: DeprecationWarning: find_elements_by_* commands are deprecated. Please use find_elements() instead\n",
      "  url=driver.find_elements_by_xpath(\"//li[@class='pagination-number']//a\")\n"
     ]
    }
   ],
   "source": [
    "page_url=[]\n",
    "\n",
    "url=driver.find_elements_by_xpath(\"//li[@class='pagination-number']//a\")\n",
    "for i in url:\n",
    "    page_url.append(i.get_attribute('href'))\n",
    "page_url=page_url[0:2]"
   ]
  },
  {
   "cell_type": "code",
   "execution_count": 79,
   "id": "420b9323",
   "metadata": {},
   "outputs": [
    {
     "name": "stderr",
     "output_type": "stream",
     "text": [
      "<ipython-input-79-6f2f80b2994d>:9: DeprecationWarning: find_elements_by_* commands are deprecated. Please use find_elements() instead\n",
      "  titles_brand=driver.find_elements_by_xpath(\"//h3[@class='product-brand']\")\n",
      "<ipython-input-79-6f2f80b2994d>:13: DeprecationWarning: find_elements_by_* commands are deprecated. Please use find_elements() instead\n",
      "  titles_Description=driver.find_elements_by_xpath(\"//h4[@class='product-product']\")\n",
      "<ipython-input-79-6f2f80b2994d>:17: DeprecationWarning: find_elements_by_* commands are deprecated. Please use find_elements() instead\n",
      "  titles_Price=driver.find_elements_by_xpath(\"//div[@class='product-price']\")\n"
     ]
    }
   ],
   "source": [
    "brand=[]\n",
    "Description=[]\n",
    "Price=[]\n",
    "\n",
    "# extracting all the tags\n",
    "\n",
    "for i in page_url:\n",
    "    driver.get(i)\n",
    "    titles_brand=driver.find_elements_by_xpath(\"//h3[@class='product-brand']\")\n",
    "    for i in titles_brand:\n",
    "        brand.append(i.text)\n",
    "    \n",
    "    titles_Description=driver.find_elements_by_xpath(\"//h4[@class='product-product']\")\n",
    "    for i in titles_Description:\n",
    "        Description.append(i.text)\n",
    "        \n",
    "    titles_Price=driver.find_elements_by_xpath(\"//div[@class='product-price']\")\n",
    "    for i in titles_Price:\n",
    "        Price.append(i.text)"
   ]
  },
  {
   "cell_type": "code",
   "execution_count": 80,
   "id": "88d80631",
   "metadata": {},
   "outputs": [
    {
     "name": "stdout",
     "output_type": "stream",
     "text": [
      "The data for the first 100 sneakers listings on myntra.com:\n",
      "\n"
     ]
    },
    {
     "data": {
      "text/html": [
       "<div>\n",
       "<style scoped>\n",
       "    .dataframe tbody tr th:only-of-type {\n",
       "        vertical-align: middle;\n",
       "    }\n",
       "\n",
       "    .dataframe tbody tr th {\n",
       "        vertical-align: top;\n",
       "    }\n",
       "\n",
       "    .dataframe thead th {\n",
       "        text-align: right;\n",
       "    }\n",
       "</style>\n",
       "<table border=\"1\" class=\"dataframe\">\n",
       "  <thead>\n",
       "    <tr style=\"text-align: right;\">\n",
       "      <th></th>\n",
       "      <th>Brand</th>\n",
       "      <th>Shoe Description</th>\n",
       "      <th>Price</th>\n",
       "    </tr>\n",
       "  </thead>\n",
       "  <tbody>\n",
       "    <tr>\n",
       "      <th>0</th>\n",
       "      <td>Geox</td>\n",
       "      <td>Men Leather Formal Derbys</td>\n",
       "      <td>Rs. 9999</td>\n",
       "    </tr>\n",
       "    <tr>\n",
       "      <th>1</th>\n",
       "      <td>Hush Puppies</td>\n",
       "      <td>Men Solid Formal Leather Slip-Ons</td>\n",
       "      <td>Rs. 8999Rs. 9999(10% OFF)</td>\n",
       "    </tr>\n",
       "    <tr>\n",
       "      <th>2</th>\n",
       "      <td>Saint G</td>\n",
       "      <td>Women Leather Heeled Boots</td>\n",
       "      <td>Rs. 13050Rs. 14500(Rs. 1450 OFF)</td>\n",
       "    </tr>\n",
       "    <tr>\n",
       "      <th>3</th>\n",
       "      <td>Bugatti</td>\n",
       "      <td>Leather Heeled Knee Boots</td>\n",
       "      <td>Rs. 12999</td>\n",
       "    </tr>\n",
       "    <tr>\n",
       "      <th>4</th>\n",
       "      <td>Saint G</td>\n",
       "      <td>Women Leather Heeled Boots</td>\n",
       "      <td>Rs. 12900Rs. 14500(Rs. 1600 OFF)</td>\n",
       "    </tr>\n",
       "    <tr>\n",
       "      <th>...</th>\n",
       "      <td>...</td>\n",
       "      <td>...</td>\n",
       "      <td>...</td>\n",
       "    </tr>\n",
       "    <tr>\n",
       "      <th>95</th>\n",
       "      <td>Saint G</td>\n",
       "      <td>High-Top Block Heeled Boots</td>\n",
       "      <td>Rs. 12500Rs. 14500(Rs. 2000 OFF)</td>\n",
       "    </tr>\n",
       "    <tr>\n",
       "      <th>96</th>\n",
       "      <td>ASICS</td>\n",
       "      <td>Women Running Shoes</td>\n",
       "      <td>Rs. 9999</td>\n",
       "    </tr>\n",
       "    <tr>\n",
       "      <th>97</th>\n",
       "      <td>Birkenstock</td>\n",
       "      <td>Women Mayari Open Toe Flats</td>\n",
       "      <td>Rs. 7490</td>\n",
       "    </tr>\n",
       "    <tr>\n",
       "      <th>98</th>\n",
       "      <td>Birkenstock</td>\n",
       "      <td>Women Arizona Oiled Leather Flats</td>\n",
       "      <td>Rs. 11990</td>\n",
       "    </tr>\n",
       "    <tr>\n",
       "      <th>99</th>\n",
       "      <td>Florsheim</td>\n",
       "      <td>Men Solid Leather Formal Brogues</td>\n",
       "      <td>Rs. 7495</td>\n",
       "    </tr>\n",
       "  </tbody>\n",
       "</table>\n",
       "<p>100 rows × 3 columns</p>\n",
       "</div>"
      ],
      "text/plain": [
       "           Brand                   Shoe Description  \\\n",
       "0           Geox          Men Leather Formal Derbys   \n",
       "1   Hush Puppies  Men Solid Formal Leather Slip-Ons   \n",
       "2        Saint G         Women Leather Heeled Boots   \n",
       "3        Bugatti          Leather Heeled Knee Boots   \n",
       "4        Saint G         Women Leather Heeled Boots   \n",
       "..           ...                                ...   \n",
       "95       Saint G        High-Top Block Heeled Boots   \n",
       "96         ASICS                Women Running Shoes   \n",
       "97   Birkenstock        Women Mayari Open Toe Flats   \n",
       "98   Birkenstock  Women Arizona Oiled Leather Flats   \n",
       "99     Florsheim   Men Solid Leather Formal Brogues   \n",
       "\n",
       "                               Price  \n",
       "0                           Rs. 9999  \n",
       "1          Rs. 8999Rs. 9999(10% OFF)  \n",
       "2   Rs. 13050Rs. 14500(Rs. 1450 OFF)  \n",
       "3                          Rs. 12999  \n",
       "4   Rs. 12900Rs. 14500(Rs. 1600 OFF)  \n",
       "..                               ...  \n",
       "95  Rs. 12500Rs. 14500(Rs. 2000 OFF)  \n",
       "96                          Rs. 9999  \n",
       "97                          Rs. 7490  \n",
       "98                         Rs. 11990  \n",
       "99                          Rs. 7495  \n",
       "\n",
       "[100 rows x 3 columns]"
      ]
     },
     "execution_count": 80,
     "metadata": {},
     "output_type": "execute_result"
    }
   ],
   "source": [
    "myntra =pd.DataFrame({})\n",
    "myntra['Brand']=brand[0:100]\n",
    "myntra['Shoe Description']=Description[0:100]\n",
    "myntra['Price']=Price[0:100]\n",
    "\n",
    "print(\"The data for the first 100 sneakers listings on myntra.com:\\n\")\n",
    "myntra"
   ]
  },
  {
   "cell_type": "markdown",
   "id": "a0ae3654",
   "metadata": {},
   "source": [
    "# Q8: Go to webpage https://www.amazon.in/\n",
    "Enter “Laptop” in the search field and then click the search icon.\n",
    "Then set CPU Type filter to “Intel Core i7” and “Intel Core i9” After setting the filters scrape first 10 laptops data. You have to scrape 3 attributes for each laptop:\n",
    "1. Title\n",
    "2. Ratings\n",
    "3. Price"
   ]
  },
  {
   "cell_type": "code",
   "execution_count": 82,
   "id": "fcfc17a4",
   "metadata": {},
   "outputs": [],
   "source": [
    "\n",
    "# get webpage\n",
    "driver.get(\"https://www.amazon.in/\")"
   ]
  },
  {
   "cell_type": "code",
   "execution_count": 83,
   "id": "825c9e18",
   "metadata": {},
   "outputs": [
    {
     "name": "stderr",
     "output_type": "stream",
     "text": [
      "<ipython-input-83-4f230ac92309>:1: DeprecationWarning: find_element_by_* commands are deprecated. Please use find_element() instead\n",
      "  search_product = driver.find_element_by_xpath(\"//div[@class='nav-search-field ']/input\")\n",
      "<ipython-input-83-4f230ac92309>:5: DeprecationWarning: find_element_by_* commands are deprecated. Please use find_element() instead\n",
      "  search_btn = driver.find_element_by_xpath(\"//div[@class='nav-search-submit nav-sprite']\")\n"
     ]
    }
   ],
   "source": [
    "search_product = driver.find_element_by_xpath(\"//div[@class='nav-search-field ']/input\")\n",
    "search_product.send_keys(\"laptop\")\n",
    "\n",
    "# click the search button\n",
    "search_btn = driver.find_element_by_xpath(\"//div[@class='nav-search-submit nav-sprite']\")\n",
    "search_btn.click()"
   ]
  },
  {
   "cell_type": "code",
   "execution_count": 84,
   "id": "23d25971",
   "metadata": {},
   "outputs": [
    {
     "name": "stderr",
     "output_type": "stream",
     "text": [
      "<ipython-input-84-164f6e2dc5ec>:1: DeprecationWarning: find_elements_by_* commands are deprecated. Please use find_elements() instead\n",
      "  i7_clk=driver.find_elements_by_xpath(\"//span[@class='a-size-base a-color-base']\")\n"
     ]
    }
   ],
   "source": [
    "i7_clk=driver.find_elements_by_xpath(\"//span[@class='a-size-base a-color-base']\")\n",
    "for i in i7_clk:\n",
    "    if i.text == 'Intel Core i7':   \n",
    "        i.click() # Checking the checkbox to apply filter on the laptop\n",
    "        break  "
   ]
  },
  {
   "cell_type": "code",
   "execution_count": 85,
   "id": "e784bf0d",
   "metadata": {},
   "outputs": [
    {
     "name": "stderr",
     "output_type": "stream",
     "text": [
      "<ipython-input-85-984ac3d015dc>:1: DeprecationWarning: find_elements_by_* commands are deprecated. Please use find_elements() instead\n",
      "  i9_clk=driver.find_elements_by_xpath(\"//span[@class='a-size-base a-color-base']\")\n"
     ]
    }
   ],
   "source": [
    "i9_clk=driver.find_elements_by_xpath(\"//span[@class='a-size-base a-color-base']\")\n",
    "for i in i9_clk:\n",
    "    if i.text == 'Intel Core i9':   \n",
    "        i.click() # Checking the checkbox to apply filter on the laptop\n",
    "        break  "
   ]
  },
  {
   "cell_type": "code",
   "execution_count": 86,
   "id": "eb4f3a5c",
   "metadata": {},
   "outputs": [],
   "source": [
    "url = \"https://www.amazon.in/s?k=laptop&rh=n%3A1375424031%2Cp_n_feature_thirteen_browse-bin%3A12598163031&dc&qid=1639316013&rnid=12598141031&ref=sr_nr_p_n_feature_thirteen_browse-bin_12\"\n",
    "\n",
    "# open the webpage through our web driver\n",
    "driver.get(url)"
   ]
  },
  {
   "cell_type": "code",
   "execution_count": 87,
   "id": "66ef78a9",
   "metadata": {},
   "outputs": [
    {
     "name": "stderr",
     "output_type": "stream",
     "text": [
      "<ipython-input-87-7b03a181b0f3>:7: DeprecationWarning: find_elements_by_* commands are deprecated. Please use find_elements() instead\n",
      "  titles=driver.find_elements_by_xpath(\"//h2[@class='a-size-mini a-spacing-none a-color-base s-line-clamp-2']\")\n",
      "<ipython-input-87-7b03a181b0f3>:11: DeprecationWarning: find_elements_by_* commands are deprecated. Please use find_elements() instead\n",
      "  titles_rat=driver.find_elements_by_xpath(\"//div[@class='a-row a-size-small']/span\")\n",
      "<ipython-input-87-7b03a181b0f3>:15: DeprecationWarning: find_elements_by_* commands are deprecated. Please use find_elements() instead\n",
      "  titles_Price=driver.find_elements_by_xpath(\"//span[@class='a-price']\")\n"
     ]
    }
   ],
   "source": [
    "Title=[]\n",
    "Rating=[]\n",
    "Price=[]\n",
    "\n",
    "# extracting all the tags\n",
    "\n",
    "titles=driver.find_elements_by_xpath(\"//h2[@class='a-size-mini a-spacing-none a-color-base s-line-clamp-2']\")\n",
    "for i in titles:\n",
    "    Title.append(i.text)\n",
    "    \n",
    "titles_rat=driver.find_elements_by_xpath(\"//div[@class='a-row a-size-small']/span\")\n",
    "for i in titles_rat:\n",
    "    Rating.append(i.get_attribute(\"aria-label\"))\n",
    "        \n",
    "titles_Price=driver.find_elements_by_xpath(\"//span[@class='a-price']\")\n",
    "for i in titles_Price:\n",
    "    Price.append(i.text[1:])\n",
    "    "
   ]
  },
  {
   "cell_type": "code",
   "execution_count": 88,
   "id": "d0096f35",
   "metadata": {},
   "outputs": [],
   "source": [
    "rating=[]\n",
    "for i in range(0,len(Rating)):\n",
    "    if i == 0 or  i/2 == i//2:\n",
    "        rating.append(Rating[i][0:3])\n",
    "        "
   ]
  },
  {
   "cell_type": "code",
   "execution_count": 89,
   "id": "7679ef68",
   "metadata": {},
   "outputs": [
    {
     "name": "stdout",
     "output_type": "stream",
     "text": [
      "The data for the first 10 laptops data on amazon.com:\n",
      "\n"
     ]
    },
    {
     "data": {
      "text/html": [
       "<div>\n",
       "<style scoped>\n",
       "    .dataframe tbody tr th:only-of-type {\n",
       "        vertical-align: middle;\n",
       "    }\n",
       "\n",
       "    .dataframe tbody tr th {\n",
       "        vertical-align: top;\n",
       "    }\n",
       "\n",
       "    .dataframe thead th {\n",
       "        text-align: right;\n",
       "    }\n",
       "</style>\n",
       "<table border=\"1\" class=\"dataframe\">\n",
       "  <thead>\n",
       "    <tr style=\"text-align: right;\">\n",
       "      <th></th>\n",
       "      <th>Title</th>\n",
       "      <th>Rating</th>\n",
       "      <th>Price</th>\n",
       "    </tr>\n",
       "  </thead>\n",
       "  <tbody>\n",
       "    <tr>\n",
       "      <th>0</th>\n",
       "      <td>Fujitsu UH-X 11th Gen Intel i7 Core 13.3 inche...</td>\n",
       "      <td>4.3</td>\n",
       "      <td>92,990</td>\n",
       "    </tr>\n",
       "    <tr>\n",
       "      <th>1</th>\n",
       "      <td>Acer Nitro 5 AN515-57 Gaming Laptop | Intel Co...</td>\n",
       "      <td>4.1</td>\n",
       "      <td>88,990</td>\n",
       "    </tr>\n",
       "    <tr>\n",
       "      <th>2</th>\n",
       "      <td>Mi Notebook Pro QHD+ IPS Anti Glare Display In...</td>\n",
       "      <td>4.3</td>\n",
       "      <td>72,999</td>\n",
       "    </tr>\n",
       "    <tr>\n",
       "      <th>3</th>\n",
       "      <td>Lenovo Yoga 7i 11th Gen Intel Core i7-1165G7 1...</td>\n",
       "      <td>4.3</td>\n",
       "      <td>1,02,490</td>\n",
       "    </tr>\n",
       "    <tr>\n",
       "      <th>4</th>\n",
       "      <td>HP Pavilion (2021) Intel 11th Gen Core i7 14 i...</td>\n",
       "      <td>4.3</td>\n",
       "      <td>84,990</td>\n",
       "    </tr>\n",
       "    <tr>\n",
       "      <th>5</th>\n",
       "      <td>HP Pavilion Gaming(2021) 10th Gen Intel Core i...</td>\n",
       "      <td>4.1</td>\n",
       "      <td>86,990</td>\n",
       "    </tr>\n",
       "    <tr>\n",
       "      <th>6</th>\n",
       "      <td>Acer Nitro 5 AN515-57 Gaming Laptop | Intel Co...</td>\n",
       "      <td>4.1</td>\n",
       "      <td>1,03,500</td>\n",
       "    </tr>\n",
       "    <tr>\n",
       "      <th>7</th>\n",
       "      <td>Mi Notebook Horizon Edition 14 Intel Core i7-1...</td>\n",
       "      <td>4.2</td>\n",
       "      <td>49,990</td>\n",
       "    </tr>\n",
       "    <tr>\n",
       "      <th>8</th>\n",
       "      <td>Dell 15 (2021) i7-11800H Gaming Laptop, 16GB, ...</td>\n",
       "      <td>4.2</td>\n",
       "      <td>1,05,703</td>\n",
       "    </tr>\n",
       "    <tr>\n",
       "      <th>9</th>\n",
       "      <td>Dell 14 (2021) i7-1195G7 2in1 Touch Screen Lap...</td>\n",
       "      <td>4.6</td>\n",
       "      <td>88,490</td>\n",
       "    </tr>\n",
       "  </tbody>\n",
       "</table>\n",
       "</div>"
      ],
      "text/plain": [
       "                                               Title Rating     Price\n",
       "0  Fujitsu UH-X 11th Gen Intel i7 Core 13.3 inche...    4.3    92,990\n",
       "1  Acer Nitro 5 AN515-57 Gaming Laptop | Intel Co...    4.1    88,990\n",
       "2  Mi Notebook Pro QHD+ IPS Anti Glare Display In...    4.3    72,999\n",
       "3  Lenovo Yoga 7i 11th Gen Intel Core i7-1165G7 1...    4.3  1,02,490\n",
       "4  HP Pavilion (2021) Intel 11th Gen Core i7 14 i...    4.3    84,990\n",
       "5  HP Pavilion Gaming(2021) 10th Gen Intel Core i...    4.1    86,990\n",
       "6  Acer Nitro 5 AN515-57 Gaming Laptop | Intel Co...    4.1  1,03,500\n",
       "7  Mi Notebook Horizon Edition 14 Intel Core i7-1...    4.2    49,990\n",
       "8  Dell 15 (2021) i7-11800H Gaming Laptop, 16GB, ...    4.2  1,05,703\n",
       "9  Dell 14 (2021) i7-1195G7 2in1 Touch Screen Lap...    4.6    88,490"
      ]
     },
     "execution_count": 89,
     "metadata": {},
     "output_type": "execute_result"
    }
   ],
   "source": [
    "amazon =pd.DataFrame({})\n",
    "amazon['Title']=Title[0:10]\n",
    "amazon['Rating']=rating[0:10]\n",
    "amazon['Price']=Price[0:10]\n",
    "\n",
    "print(\"The data for the first 10 laptops data on amazon.com:\\n\")\n",
    "amazon"
   ]
  },
  {
   "cell_type": "markdown",
   "id": "382c82a7",
   "metadata": {},
   "source": [
    "# Q9: Write a python program to scrape data for first 10 job results for Data Scientist Designation in Noida location. You have to scrape company name, No. of days ago when job was posted, Rating of the company."
   ]
  },
  {
   "cell_type": "code",
   "execution_count": 90,
   "id": "9658acf4",
   "metadata": {},
   "outputs": [],
   "source": [
    "driver.get(\" https://www.ambitionbox.com//\")\n"
   ]
  },
  {
   "cell_type": "code",
   "execution_count": 91,
   "id": "09161054",
   "metadata": {},
   "outputs": [
    {
     "name": "stderr",
     "output_type": "stream",
     "text": [
      "<ipython-input-91-39a87aaa856a>:1: DeprecationWarning: find_element_by_* commands are deprecated. Please use find_element() instead\n",
      "  cl_job = driver.find_element_by_xpath(\"//a[@class='link jobs']\")\n"
     ]
    }
   ],
   "source": [
    "cl_job = driver.find_element_by_xpath(\"//a[@class='link jobs']\")\n",
    "cl_job.click()"
   ]
  },
  {
   "cell_type": "code",
   "execution_count": 92,
   "id": "f22f701b",
   "metadata": {},
   "outputs": [
    {
     "name": "stderr",
     "output_type": "stream",
     "text": [
      "<ipython-input-92-58b0a9f93016>:1: DeprecationWarning: find_element_by_* commands are deprecated. Please use find_element() instead\n",
      "  search_title = driver.find_element_by_xpath(\"//span[@class='twitter-typeahead']/input\")\n",
      "<ipython-input-92-58b0a9f93016>:5: DeprecationWarning: find_element_by_* commands are deprecated. Please use find_element() instead\n",
      "  search_btn = driver.find_element_by_xpath(\"//button[@class='ab_btn search-btn round']\")\n"
     ]
    }
   ],
   "source": [
    "search_title = driver.find_element_by_xpath(\"//span[@class='twitter-typeahead']/input\")\n",
    "search_title.send_keys(\"Data Scientist\")\n",
    "\n",
    "#click on search button.\n",
    "search_btn = driver.find_element_by_xpath(\"//button[@class='ab_btn search-btn round']\")\n",
    "search_btn.click()"
   ]
  },
  {
   "cell_type": "code",
   "execution_count": 93,
   "id": "f1817299",
   "metadata": {},
   "outputs": [
    {
     "name": "stderr",
     "output_type": "stream",
     "text": [
      "<ipython-input-93-96b411081b75>:1: DeprecationWarning: find_element_by_* commands are deprecated. Please use find_element() instead\n",
      "  cl_loc = driver.find_element_by_xpath(\"//div[@class='show-flex']/div[2]\") # Location dropdown\n",
      "<ipython-input-93-96b411081b75>:3: DeprecationWarning: find_element_by_* commands are deprecated. Please use find_element() instead\n",
      "  driver.find_element_by_id(\"location_Noida\").click() # Select Noida\n"
     ]
    }
   ],
   "source": [
    "cl_loc = driver.find_element_by_xpath(\"//div[@class='show-flex']/div[2]\") # Location dropdown\n",
    "cl_loc.click()    \n",
    "driver.find_element_by_id(\"location_Noida\").click() # Select Noida"
   ]
  },
  {
   "cell_type": "code",
   "execution_count": 94,
   "id": "b71c82aa",
   "metadata": {},
   "outputs": [
    {
     "name": "stderr",
     "output_type": "stream",
     "text": [
      "<ipython-input-94-79725e35ffb4>:8: DeprecationWarning: find_elements_by_* commands are deprecated. Please use find_elements() instead\n",
      "  company=driver.find_elements_by_xpath(\"//div[@class='company-info']\")\n"
     ]
    },
    {
     "ename": "IndexError",
     "evalue": "list index out of range",
     "output_type": "error",
     "traceback": [
      "\u001b[1;31m---------------------------------------------------------------------------\u001b[0m",
      "\u001b[1;31mIndexError\u001b[0m                                Traceback (most recent call last)",
      "\u001b[1;32m<ipython-input-94-79725e35ffb4>\u001b[0m in \u001b[0;36m<module>\u001b[1;34m\u001b[0m\n\u001b[0;32m      9\u001b[0m \u001b[1;32mfor\u001b[0m \u001b[0mi\u001b[0m \u001b[1;32min\u001b[0m \u001b[0mcompany\u001b[0m\u001b[1;33m:\u001b[0m\u001b[1;33m\u001b[0m\u001b[1;33m\u001b[0m\u001b[0m\n\u001b[0;32m     10\u001b[0m     \u001b[0mcompany_name\u001b[0m\u001b[1;33m.\u001b[0m\u001b[0mappend\u001b[0m\u001b[1;33m(\u001b[0m\u001b[0mi\u001b[0m\u001b[1;33m.\u001b[0m\u001b[0mtext\u001b[0m\u001b[1;33m.\u001b[0m\u001b[0msplit\u001b[0m\u001b[1;33m(\u001b[0m\u001b[1;34m\"\\n\"\u001b[0m\u001b[1;33m)\u001b[0m\u001b[1;33m[\u001b[0m\u001b[1;36m0\u001b[0m\u001b[1;33m]\u001b[0m\u001b[1;33m)\u001b[0m\u001b[1;33m\u001b[0m\u001b[1;33m\u001b[0m\u001b[0m\n\u001b[1;32m---> 11\u001b[1;33m     \u001b[0mrating\u001b[0m\u001b[1;33m.\u001b[0m\u001b[0mappend\u001b[0m\u001b[1;33m(\u001b[0m\u001b[0mi\u001b[0m\u001b[1;33m.\u001b[0m\u001b[0mtext\u001b[0m\u001b[1;33m.\u001b[0m\u001b[0msplit\u001b[0m\u001b[1;33m(\u001b[0m\u001b[1;34m\"\\n\"\u001b[0m\u001b[1;33m)\u001b[0m\u001b[1;33m[\u001b[0m\u001b[1;36m1\u001b[0m\u001b[1;33m]\u001b[0m\u001b[1;33m)\u001b[0m\u001b[1;33m\u001b[0m\u001b[1;33m\u001b[0m\u001b[0m\n\u001b[0m\u001b[0;32m     12\u001b[0m \u001b[1;33m\u001b[0m\u001b[0m\n\u001b[0;32m     13\u001b[0m \u001b[0mposted\u001b[0m\u001b[1;33m=\u001b[0m\u001b[0mdriver\u001b[0m\u001b[1;33m.\u001b[0m\u001b[0mfind_elements_by_xpath\u001b[0m\u001b[1;33m(\u001b[0m\u001b[1;34m\"//span[@class='body-small-l']\"\u001b[0m\u001b[1;33m)\u001b[0m\u001b[1;33m\u001b[0m\u001b[1;33m\u001b[0m\u001b[0m\n",
      "\u001b[1;31mIndexError\u001b[0m: list index out of range"
     ]
    }
   ],
   "source": [
    "#creating empty list\n",
    "company_name = []\n",
    "job_posted = []\n",
    "rating = []\n",
    "\n",
    "#Scraing all tags\n",
    "\n",
    "company=driver.find_elements_by_xpath(\"//div[@class='company-info']\")\n",
    "for i in company:\n",
    "    company_name.append(i.text.split(\"\\n\")[0])\n",
    "    rating.append(i.text.split(\"\\n\")[1])\n",
    "    \n",
    "posted=driver.find_elements_by_xpath(\"//span[@class='body-small-l']\")\n",
    "for i in posted:\n",
    "    job_posted.append(i.text)\n",
    "    \n",
    "# extratcing job posted days from the unorganised job posted tag\n",
    "\n",
    "posted=[]\n",
    "for i in range(0,len(job_posted)):\n",
    "    if i == 0 or  i/2 == i//2:\n",
    "        posted.append(job_posted[i])"
   ]
  },
  {
   "cell_type": "code",
   "execution_count": 95,
   "id": "403d875e",
   "metadata": {},
   "outputs": [
    {
     "ename": "NameError",
     "evalue": "name 'posted' is not defined",
     "output_type": "error",
     "traceback": [
      "\u001b[1;31m---------------------------------------------------------------------------\u001b[0m",
      "\u001b[1;31mNameError\u001b[0m                                 Traceback (most recent call last)",
      "\u001b[1;32m<ipython-input-95-098feb45e660>\u001b[0m in \u001b[0;36m<module>\u001b[1;34m\u001b[0m\n\u001b[0;32m      1\u001b[0m \u001b[0mambition\u001b[0m \u001b[1;33m=\u001b[0m \u001b[0mpd\u001b[0m\u001b[1;33m.\u001b[0m\u001b[0mDataFrame\u001b[0m\u001b[1;33m(\u001b[0m\u001b[1;33m{\u001b[0m\u001b[1;33m}\u001b[0m\u001b[1;33m)\u001b[0m\u001b[1;33m\u001b[0m\u001b[1;33m\u001b[0m\u001b[0m\n\u001b[0;32m      2\u001b[0m \u001b[0mambition\u001b[0m\u001b[1;33m[\u001b[0m\u001b[1;34m\"Company_name\"\u001b[0m\u001b[1;33m]\u001b[0m \u001b[1;33m=\u001b[0m \u001b[0mcompany_name\u001b[0m\u001b[1;33m[\u001b[0m\u001b[1;36m1\u001b[0m\u001b[1;33m:\u001b[0m\u001b[1;33m]\u001b[0m\u001b[1;33m\u001b[0m\u001b[1;33m\u001b[0m\u001b[0m\n\u001b[1;32m----> 3\u001b[1;33m \u001b[0mambition\u001b[0m\u001b[1;33m[\u001b[0m\u001b[1;34m\"Job_Posted\"\u001b[0m\u001b[1;33m]\u001b[0m \u001b[1;33m=\u001b[0m \u001b[0mposted\u001b[0m\u001b[1;33m\u001b[0m\u001b[1;33m\u001b[0m\u001b[0m\n\u001b[0m\u001b[0;32m      4\u001b[0m \u001b[0mambition\u001b[0m\u001b[1;33m[\u001b[0m\u001b[1;34m\"Rating\"\u001b[0m\u001b[1;33m]\u001b[0m \u001b[1;33m=\u001b[0m \u001b[0mrating\u001b[0m\u001b[1;33m[\u001b[0m\u001b[1;36m1\u001b[0m\u001b[1;33m:\u001b[0m\u001b[1;33m]\u001b[0m\u001b[1;33m\u001b[0m\u001b[1;33m\u001b[0m\u001b[0m\n\u001b[0;32m      5\u001b[0m \u001b[1;33m\u001b[0m\u001b[0m\n",
      "\u001b[1;31mNameError\u001b[0m: name 'posted' is not defined"
     ]
    }
   ],
   "source": [
    "ambition = pd.DataFrame({})\n",
    "ambition[\"Company_name\"] = company_name[1:]\n",
    "ambition[\"Job_Posted\"] = posted\n",
    "ambition[\"Rating\"] = rating[1:]\n",
    "\n",
    "print(\"The data for the first 10 jobs results in ambitionbox.com :\\n \")\n",
    "ambition"
   ]
  },
  {
   "cell_type": "markdown",
   "id": "ada7a76d",
   "metadata": {},
   "source": [
    "# Q10: Write a python program to scrape the salary data for Data Scientist designation. You have to scrape Company name, Number of salaries, Average salary, Min salary, Max Salary."
   ]
  },
  {
   "cell_type": "code",
   "execution_count": 97,
   "id": "d67fa00c",
   "metadata": {},
   "outputs": [],
   "source": [
    "driver.get(\" https://www.ambitionbox.com//\")"
   ]
  },
  {
   "cell_type": "code",
   "execution_count": 98,
   "id": "c3799a7d",
   "metadata": {},
   "outputs": [
    {
     "name": "stderr",
     "output_type": "stream",
     "text": [
      "<ipython-input-98-5110c892d109>:1: DeprecationWarning: find_element_by_* commands are deprecated. Please use find_element() instead\n",
      "  driver.find_element_by_xpath(\"//a[@class='link salaries']\").click() #Salaries\n"
     ]
    }
   ],
   "source": [
    "driver.find_element_by_xpath(\"//a[@class='link salaries']\").click() #Salaries\n"
   ]
  },
  {
   "cell_type": "code",
   "execution_count": 99,
   "id": "cdc14eee",
   "metadata": {},
   "outputs": [
    {
     "name": "stderr",
     "output_type": "stream",
     "text": [
      "<ipython-input-99-5049d4416a9b>:1: DeprecationWarning: find_element_by_* commands are deprecated. Please use find_element() instead\n",
      "  search_job = driver.find_element_by_id(\"jobProfileSearchbox\")\n",
      "<ipython-input-99-5049d4416a9b>:4: DeprecationWarning: find_elements_by_* commands are deprecated. Please use find_elements() instead\n",
      "  clk=driver.find_elements_by_xpath(\"//div[@class='suggestion_wrap tt-suggestion tt-selectable']\")\n"
     ]
    }
   ],
   "source": [
    "search_job = driver.find_element_by_id(\"jobProfileSearchbox\")\n",
    "search_job.send_keys(\"Data Scientist\")\n",
    "\n",
    "clk=driver.find_elements_by_xpath(\"//div[@class='suggestion_wrap tt-suggestion tt-selectable']\")\n",
    "for i in clk:\n",
    "    if i.text == 'Data Scientist':   \n",
    "        i.click() # click on “Data Scientist”\n",
    "        break  "
   ]
  },
  {
   "cell_type": "code",
   "execution_count": 100,
   "id": "b97145d7",
   "metadata": {},
   "outputs": [
    {
     "name": "stderr",
     "output_type": "stream",
     "text": [
      "<ipython-input-100-5bcda8c105a3>:10: DeprecationWarning: find_elements_by_* commands are deprecated. Please use find_elements() instead\n",
      "  company=driver.find_elements_by_xpath(\"//div[@class='company-info']\")\n",
      "<ipython-input-100-5bcda8c105a3>:16: DeprecationWarning: find_elements_by_* commands are deprecated. Please use find_elements() instead\n",
      "  avg_salary=driver.find_elements_by_xpath(\"//div[@class='average-indicator-wrapper']\")\n",
      "<ipython-input-100-5bcda8c105a3>:20: DeprecationWarning: find_elements_by_* commands are deprecated. Please use find_elements() instead\n",
      "  salary=driver.find_elements_by_xpath(\"//div[@class='salary-values']\")\n"
     ]
    }
   ],
   "source": [
    "company_name = []\n",
    "salary_record = []\n",
    "average_salary = []\n",
    "min_salary = []\n",
    "max_salary = []\n",
    "exp = []\n",
    "\n",
    "#Scraing all tags\n",
    "\n",
    "company=driver.find_elements_by_xpath(\"//div[@class='company-info']\")\n",
    "for i in company:\n",
    "    company_name.append(i.text.split(\"\\n\")[0])                              #company name\n",
    "    salary_record.append(i.text.replace(\"based on\", \" \").replace(\"salaries\",\"\").split(\"\\n\")[1:2]) #Total Salary Record\n",
    "    exp.append(i.text.replace(\"yrs exp\",\"\").replace(\"yr exp\",\"\").split(\"\\n\")[-1])                # Experience required\n",
    "    \n",
    "avg_salary=driver.find_elements_by_xpath(\"//div[@class='average-indicator-wrapper']\")\n",
    "for i in avg_salary:\n",
    "    average_salary.append(i.text.replace(\"₹\",\"\").replace(\"L\",\"\"))            # average salary\n",
    "\n",
    "salary=driver.find_elements_by_xpath(\"//div[@class='salary-values']\")\n",
    "for i in salary:\n",
    "    min_salary.append(i.text.replace(\"₹\",\"\").replace(\"L\",\"\").split(\"\\n\")[0])  # minimum salary\n",
    "    max_salary.append(i.text.replace(\"₹\",\"\").replace(\"L\",\"\").split(\"\\n\")[1])  # maximum salary"
   ]
  },
  {
   "cell_type": "code",
   "execution_count": 101,
   "id": "16c45693",
   "metadata": {},
   "outputs": [
    {
     "name": "stdout",
     "output_type": "stream",
     "text": [
      "The data for the first 10 Companies results in ambitionbox.com :\n",
      " \n"
     ]
    },
    {
     "data": {
      "text/html": [
       "<div>\n",
       "<style scoped>\n",
       "    .dataframe tbody tr th:only-of-type {\n",
       "        vertical-align: middle;\n",
       "    }\n",
       "\n",
       "    .dataframe tbody tr th {\n",
       "        vertical-align: top;\n",
       "    }\n",
       "\n",
       "    .dataframe thead th {\n",
       "        text-align: right;\n",
       "    }\n",
       "</style>\n",
       "<table border=\"1\" class=\"dataframe\">\n",
       "  <thead>\n",
       "    <tr style=\"text-align: right;\">\n",
       "      <th></th>\n",
       "      <th>Company_Name</th>\n",
       "      <th>Total_Salary_Record</th>\n",
       "      <th>Experience_Required</th>\n",
       "      <th>Average_Salary_L</th>\n",
       "      <th>Minimum_Salary_L</th>\n",
       "      <th>Maximum_Salary_L</th>\n",
       "    </tr>\n",
       "  </thead>\n",
       "  <tbody>\n",
       "    <tr>\n",
       "      <th>0</th>\n",
       "      <td>Tekion</td>\n",
       "      <td>[  10 ]</td>\n",
       "      <td>4</td>\n",
       "      <td>23.3</td>\n",
       "      <td>14.0</td>\n",
       "      <td>32.0</td>\n",
       "    </tr>\n",
       "    <tr>\n",
       "      <th>1</th>\n",
       "      <td>Microsoft Corporation</td>\n",
       "      <td>[  218 ]</td>\n",
       "      <td>1-4</td>\n",
       "      <td>22.4</td>\n",
       "      <td>12.0</td>\n",
       "      <td>45.0</td>\n",
       "    </tr>\n",
       "    <tr>\n",
       "      <th>2</th>\n",
       "      <td>Goldman Sachs</td>\n",
       "      <td>[  11 ]</td>\n",
       "      <td>2</td>\n",
       "      <td>21.9</td>\n",
       "      <td>16.0</td>\n",
       "      <td>30.0</td>\n",
       "    </tr>\n",
       "    <tr>\n",
       "      <th>3</th>\n",
       "      <td>Flipkart</td>\n",
       "      <td>[  53 ]</td>\n",
       "      <td>1-4</td>\n",
       "      <td>20.6</td>\n",
       "      <td>7.0</td>\n",
       "      <td>30.0</td>\n",
       "    </tr>\n",
       "    <tr>\n",
       "      <th>4</th>\n",
       "      <td>Amazon</td>\n",
       "      <td>[  80 ]</td>\n",
       "      <td>1-4</td>\n",
       "      <td>19.1</td>\n",
       "      <td>8.0</td>\n",
       "      <td>40.0</td>\n",
       "    </tr>\n",
       "    <tr>\n",
       "      <th>5</th>\n",
       "      <td>Arcesium</td>\n",
       "      <td>[  35 ]</td>\n",
       "      <td>1</td>\n",
       "      <td>18.4</td>\n",
       "      <td>12.0</td>\n",
       "      <td>30.0</td>\n",
       "    </tr>\n",
       "    <tr>\n",
       "      <th>6</th>\n",
       "      <td>Servicenow Software Development India</td>\n",
       "      <td>[  27 ]</td>\n",
       "      <td>2-3</td>\n",
       "      <td>18.2</td>\n",
       "      <td>12.0</td>\n",
       "      <td>25.0</td>\n",
       "    </tr>\n",
       "    <tr>\n",
       "      <th>7</th>\n",
       "      <td>ServiceNow</td>\n",
       "      <td>[  15 ]</td>\n",
       "      <td>3</td>\n",
       "      <td>18.2</td>\n",
       "      <td>12.7</td>\n",
       "      <td>23.0</td>\n",
       "    </tr>\n",
       "    <tr>\n",
       "      <th>8</th>\n",
       "      <td>Walmart</td>\n",
       "      <td>[  77 ]</td>\n",
       "      <td>1-4</td>\n",
       "      <td>17.9</td>\n",
       "      <td>10.0</td>\n",
       "      <td>32.0</td>\n",
       "    </tr>\n",
       "    <tr>\n",
       "      <th>9</th>\n",
       "      <td>PayPal</td>\n",
       "      <td>[  12 ]</td>\n",
       "      <td>1</td>\n",
       "      <td>17.6</td>\n",
       "      <td>12.0</td>\n",
       "      <td>23.0</td>\n",
       "    </tr>\n",
       "  </tbody>\n",
       "</table>\n",
       "</div>"
      ],
      "text/plain": [
       "                            Company_Name Total_Salary_Record  \\\n",
       "0                                 Tekion             [  10 ]   \n",
       "1                  Microsoft Corporation            [  218 ]   \n",
       "2                          Goldman Sachs             [  11 ]   \n",
       "3                               Flipkart             [  53 ]   \n",
       "4                                 Amazon             [  80 ]   \n",
       "5                               Arcesium             [  35 ]   \n",
       "6  Servicenow Software Development India             [  27 ]   \n",
       "7                             ServiceNow             [  15 ]   \n",
       "8                                Walmart             [  77 ]   \n",
       "9                                 PayPal             [  12 ]   \n",
       "\n",
       "  Experience_Required Average_Salary_L Minimum_Salary_L Maximum_Salary_L  \n",
       "0                  4              23.3             14.0             32.0  \n",
       "1                1-4              22.4             12.0             45.0  \n",
       "2                  2              21.9             16.0             30.0  \n",
       "3                1-4              20.6              7.0             30.0  \n",
       "4                1-4              19.1              8.0             40.0  \n",
       "5                  1              18.4             12.0             30.0  \n",
       "6                2-3              18.2             12.0             25.0  \n",
       "7                  3              18.2             12.7             23.0  \n",
       "8                1-4              17.9             10.0             32.0  \n",
       "9                  1              17.6             12.0             23.0  "
      ]
     },
     "execution_count": 101,
     "metadata": {},
     "output_type": "execute_result"
    }
   ],
   "source": [
    "ambition =pd.DataFrame({})\n",
    "ambition[\"Company_Name\"] = company_name[:10]\n",
    "ambition[\"Total_Salary_Record\"] = salary_record[:10]\n",
    "ambition[\"Experience_Required\"] = exp[:10]\n",
    "ambition[\"Average_Salary_L\"] = average_salary[:10]\n",
    "ambition[\"Minimum_Salary_L\"] = min_salary\n",
    "ambition[\"Maximum_Salary_L\"] = max_salary\n",
    "\n",
    "print(\"The data for the first 10 Companies results in ambitionbox.com :\\n \")\n",
    "ambition"
   ]
  },
  {
   "cell_type": "code",
   "execution_count": 102,
   "id": "a39a7157",
   "metadata": {},
   "outputs": [],
   "source": [
    "# close the driver\n",
    "driver.close()"
   ]
  },
  {
   "cell_type": "code",
   "execution_count": null,
   "id": "0f4da60c",
   "metadata": {},
   "outputs": [],
   "source": []
  }
 ],
 "metadata": {
  "kernelspec": {
   "display_name": "Python 3",
   "language": "python",
   "name": "python3"
  },
  "language_info": {
   "codemirror_mode": {
    "name": "ipython",
    "version": 3
   },
   "file_extension": ".py",
   "mimetype": "text/x-python",
   "name": "python",
   "nbconvert_exporter": "python",
   "pygments_lexer": "ipython3",
   "version": "3.8.8"
  }
 },
 "nbformat": 4,
 "nbformat_minor": 5
}
